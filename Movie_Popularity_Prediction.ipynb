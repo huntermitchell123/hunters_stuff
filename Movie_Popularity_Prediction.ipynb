{
  "nbformat": 4,
  "nbformat_minor": 0,
  "metadata": {
    "colab": {
      "name": "Movie_Popularity_Prediction",
      "provenance": [],
      "toc_visible": true
    },
    "kernelspec": {
      "name": "python3",
      "display_name": "Python 3"
    }
  },
  "cells": [
    {
      "cell_type": "markdown",
      "metadata": {
        "id": "jDHHdcHzzjQ3"
      },
      "source": [
        "**Hunter Mitchell**\n",
        "\n",
        "**Movie Popularity Prediction Project**\n",
        "\n",
        "**September 22nd, 2020**"
      ]
    },
    {
      "cell_type": "markdown",
      "metadata": {
        "id": "60dzQY8p0QKQ"
      },
      "source": [
        "# Intro"
      ]
    },
    {
      "cell_type": "markdown",
      "metadata": {
        "id": "mqEt4GSU0dzZ"
      },
      "source": [
        "***What makes a movie popular?***\n",
        "\n",
        "This project attempts to answer that question by examining various factors of films including budget, run time, genre, language and rating!\n",
        "\n",
        "We will utilize Machine Learning and Data Science fundamentals to create a model that will predict a movie's popularity. This could be useful for film companies to determine what factors into a movie's popularity, or for other content creators to better understand their audience.\n",
        "\n",
        "The data I am using is obtained from a Kaggle dataset found [here](https://www.kaggle.com/tmdb/tmdb-movie-metadata). I encourage anyone to explore the data for themselves and predict other potentially useful imformation (revenue, rating, etc.) \n",
        "\n",
        "We must also verify four main assumptions to get valid results from Linear Regression. These are:\n",
        "\n",
        "1.   Linearity between features and target\n",
        "2.   Multivariate normality\n",
        "3.   Little multicollinearity\n",
        "4.   Homoscedasticity \n",
        "\n",
        "We will examine each of these before implementing a Linear Regression model. Now let's get started!"
      ]
    },
    {
      "cell_type": "markdown",
      "metadata": {
        "id": "IXRdfel20wlo"
      },
      "source": [
        "# Getting to know our data"
      ]
    },
    {
      "cell_type": "markdown",
      "metadata": {
        "id": "U6NHpdRi3CBj"
      },
      "source": [
        "Let's begin by importing some necessary libraries so that we can explore our data!"
      ]
    },
    {
      "cell_type": "code",
      "metadata": {
        "id": "xCqX2aIBy9jG"
      },
      "source": [
        "import pandas as pd # for dataframes\n",
        "import numpy as np # for arrays & math functions\n",
        "\n",
        "%matplotlib inline\n",
        "import matplotlib.pyplot as plt # for plotting\n",
        "\n",
        "import warnings\n",
        "warnings.filterwarnings('ignore') # ignoring any warnings"
      ],
      "execution_count": 1,
      "outputs": []
    },
    {
      "cell_type": "code",
      "metadata": {
        "id": "8uZVpGzF0zXN"
      },
      "source": [
        "PATH = '/content/tmdb_5000_movies.csv'\n",
        "\n",
        "movies_df = pd.read_csv(PATH) # load data into a pandas dataframe"
      ],
      "execution_count": 2,
      "outputs": []
    },
    {
      "cell_type": "markdown",
      "metadata": {
        "id": "-p2vTgmT8MON"
      },
      "source": [
        "Let's take a look at a couple instances to see what information we have"
      ]
    },
    {
      "cell_type": "code",
      "metadata": {
        "id": "xHTmqhTx1BKX",
        "outputId": "e441b090-02c7-46b9-dc74-1285aa38f862",
        "colab": {
          "base_uri": "https://localhost:8080/",
          "height": 424
        }
      },
      "source": [
        "SEED = 2020 # for reproducability\n",
        "\n",
        "movies_df.sample(3,random_state=SEED)"
      ],
      "execution_count": 3,
      "outputs": [
        {
          "output_type": "execute_result",
          "data": {
            "text/html": [
              "<div>\n",
              "<style scoped>\n",
              "    .dataframe tbody tr th:only-of-type {\n",
              "        vertical-align: middle;\n",
              "    }\n",
              "\n",
              "    .dataframe tbody tr th {\n",
              "        vertical-align: top;\n",
              "    }\n",
              "\n",
              "    .dataframe thead th {\n",
              "        text-align: right;\n",
              "    }\n",
              "</style>\n",
              "<table border=\"1\" class=\"dataframe\">\n",
              "  <thead>\n",
              "    <tr style=\"text-align: right;\">\n",
              "      <th></th>\n",
              "      <th>budget</th>\n",
              "      <th>genres</th>\n",
              "      <th>homepage</th>\n",
              "      <th>id</th>\n",
              "      <th>keywords</th>\n",
              "      <th>original_language</th>\n",
              "      <th>original_title</th>\n",
              "      <th>overview</th>\n",
              "      <th>popularity</th>\n",
              "      <th>production_companies</th>\n",
              "      <th>production_countries</th>\n",
              "      <th>release_date</th>\n",
              "      <th>revenue</th>\n",
              "      <th>runtime</th>\n",
              "      <th>spoken_languages</th>\n",
              "      <th>status</th>\n",
              "      <th>tagline</th>\n",
              "      <th>title</th>\n",
              "      <th>vote_average</th>\n",
              "      <th>vote_count</th>\n",
              "    </tr>\n",
              "  </thead>\n",
              "  <tbody>\n",
              "    <tr>\n",
              "      <th>1240</th>\n",
              "      <td>35000000</td>\n",
              "      <td>[{\"id\": 18, \"name\": \"Drama\"}]</td>\n",
              "      <td>NaN</td>\n",
              "      <td>12184</td>\n",
              "      <td>[{\"id\": 392, \"name\": \"england\"}, {\"id\": 1156, ...</td>\n",
              "      <td>en</td>\n",
              "      <td>The Other Boleyn Girl</td>\n",
              "      <td>A sumptuous and sensual tale of intrigue, roma...</td>\n",
              "      <td>22.939557</td>\n",
              "      <td>[{\"name\": \"Columbia Pictures\", \"id\": 5}, {\"nam...</td>\n",
              "      <td>[{\"iso_3166_1\": \"GB\", \"name\": \"United Kingdom\"...</td>\n",
              "      <td>2008-02-28</td>\n",
              "      <td>0</td>\n",
              "      <td>115.0</td>\n",
              "      <td>[{\"iso_639_1\": \"en\", \"name\": \"English\"}]</td>\n",
              "      <td>Released</td>\n",
              "      <td>Two sisters divided for the love of a king.</td>\n",
              "      <td>The Other Boleyn Girl</td>\n",
              "      <td>6.4</td>\n",
              "      <td>477</td>\n",
              "    </tr>\n",
              "    <tr>\n",
              "      <th>4354</th>\n",
              "      <td>0</td>\n",
              "      <td>[{\"id\": 18, \"name\": \"Drama\"}, {\"id\": 10749, \"n...</td>\n",
              "      <td>NaN</td>\n",
              "      <td>361475</td>\n",
              "      <td>[{\"id\": 237, \"name\": \"gay\"}]</td>\n",
              "      <td>en</td>\n",
              "      <td>Departure</td>\n",
              "      <td>An English mother and her teenage son spend a ...</td>\n",
              "      <td>0.425830</td>\n",
              "      <td>[{\"name\": \"British Film Institute (BFI)\", \"id\"...</td>\n",
              "      <td>[{\"iso_3166_1\": \"FR\", \"name\": \"France\"}, {\"iso...</td>\n",
              "      <td>2016-05-20</td>\n",
              "      <td>0</td>\n",
              "      <td>109.0</td>\n",
              "      <td>[{\"iso_639_1\": \"en\", \"name\": \"English\"}, {\"iso...</td>\n",
              "      <td>Released</td>\n",
              "      <td>NaN</td>\n",
              "      <td>Departure</td>\n",
              "      <td>7.5</td>\n",
              "      <td>12</td>\n",
              "    </tr>\n",
              "    <tr>\n",
              "      <th>2319</th>\n",
              "      <td>17000000</td>\n",
              "      <td>[{\"id\": 35, \"name\": \"Comedy\"}]</td>\n",
              "      <td>NaN</td>\n",
              "      <td>10402</td>\n",
              "      <td>[{\"id\": 1357, \"name\": \"fish\"}, {\"id\": 2269, \"n...</td>\n",
              "      <td>en</td>\n",
              "      <td>Deuce Bigalow: Male Gigolo</td>\n",
              "      <td>Deuce Bigalow is a less than attractive, down ...</td>\n",
              "      <td>9.832326</td>\n",
              "      <td>[{\"name\": \"Happy Madison Productions\", \"id\": 2...</td>\n",
              "      <td>[{\"iso_3166_1\": \"US\", \"name\": \"United States o...</td>\n",
              "      <td>1999-12-10</td>\n",
              "      <td>65535067</td>\n",
              "      <td>88.0</td>\n",
              "      <td>[{\"iso_639_1\": \"en\", \"name\": \"English\"}]</td>\n",
              "      <td>Released</td>\n",
              "      <td>He charges $10 but he’s willing to negotiate.</td>\n",
              "      <td>Deuce Bigalow: Male Gigolo</td>\n",
              "      <td>5.5</td>\n",
              "      <td>308</td>\n",
              "    </tr>\n",
              "  </tbody>\n",
              "</table>\n",
              "</div>"
            ],
            "text/plain": [
              "        budget  ... vote_count\n",
              "1240  35000000  ...        477\n",
              "4354         0  ...         12\n",
              "2319  17000000  ...        308\n",
              "\n",
              "[3 rows x 20 columns]"
            ]
          },
          "metadata": {
            "tags": []
          },
          "execution_count": 3
        }
      ]
    },
    {
      "cell_type": "markdown",
      "metadata": {
        "id": "qhkz3oUD8dJf"
      },
      "source": [
        "We can see already that there is some missing data that we will need to take care of. There are also entries of zero that could be false.\n",
        "\n",
        "According to the dataset, popularity is measured as the cumulative number of star ratings. It is also unknown whether the budget and revenue are in USD or some other currency. \n",
        "\n",
        "Let's look at all of our different columns.\n"
      ]
    },
    {
      "cell_type": "code",
      "metadata": {
        "id": "9lZ-Yo0_8sEJ",
        "outputId": "bc976fb5-c383-44c7-e6f9-40a01d7299f5",
        "colab": {
          "base_uri": "https://localhost:8080/",
          "height": 496
        }
      },
      "source": [
        "movies_df.info()"
      ],
      "execution_count": 4,
      "outputs": [
        {
          "output_type": "stream",
          "text": [
            "<class 'pandas.core.frame.DataFrame'>\n",
            "RangeIndex: 4803 entries, 0 to 4802\n",
            "Data columns (total 20 columns):\n",
            " #   Column                Non-Null Count  Dtype  \n",
            "---  ------                --------------  -----  \n",
            " 0   budget                4803 non-null   int64  \n",
            " 1   genres                4803 non-null   object \n",
            " 2   homepage              1712 non-null   object \n",
            " 3   id                    4803 non-null   int64  \n",
            " 4   keywords              4803 non-null   object \n",
            " 5   original_language     4803 non-null   object \n",
            " 6   original_title        4803 non-null   object \n",
            " 7   overview              4800 non-null   object \n",
            " 8   popularity            4803 non-null   float64\n",
            " 9   production_companies  4803 non-null   object \n",
            " 10  production_countries  4803 non-null   object \n",
            " 11  release_date          4802 non-null   object \n",
            " 12  revenue               4803 non-null   int64  \n",
            " 13  runtime               4801 non-null   float64\n",
            " 14  spoken_languages      4803 non-null   object \n",
            " 15  status                4803 non-null   object \n",
            " 16  tagline               3959 non-null   object \n",
            " 17  title                 4803 non-null   object \n",
            " 18  vote_average          4803 non-null   float64\n",
            " 19  vote_count            4803 non-null   int64  \n",
            "dtypes: float64(3), int64(4), object(13)\n",
            "memory usage: 750.6+ KB\n"
          ],
          "name": "stdout"
        }
      ]
    },
    {
      "cell_type": "markdown",
      "metadata": {
        "id": "jA43HvxJCdkQ"
      },
      "source": [
        "As you can see, we have 19 columns to work with. Many of these will not correlate to popularity, though.\n",
        "\n",
        "Overall, we don't have many null values. There are a lot in the homepage column, but that shouldn't be correlated to popularity, so we can safely ignore it as a feature. Our dataset contains 4,803 instances: not a ton, but it should be plenty for a regression model.\n",
        "\n",
        "Now let's check out our target variable 'popularity'."
      ]
    },
    {
      "cell_type": "code",
      "metadata": {
        "id": "HSEibJ4tduTf",
        "outputId": "2c6a586a-3e51-4e7c-9b24-89beef1bf1f2",
        "colab": {
          "base_uri": "https://localhost:8080/",
          "height": 176
        }
      },
      "source": [
        "movies_df['popularity'].describe()"
      ],
      "execution_count": 5,
      "outputs": [
        {
          "output_type": "execute_result",
          "data": {
            "text/plain": [
              "count    4803.000000\n",
              "mean       21.492301\n",
              "std        31.816650\n",
              "min         0.000000\n",
              "25%         4.668070\n",
              "50%        12.921594\n",
              "75%        28.313505\n",
              "max       875.581305\n",
              "Name: popularity, dtype: float64"
            ]
          },
          "metadata": {
            "tags": []
          },
          "execution_count": 5
        }
      ]
    },
    {
      "cell_type": "markdown",
      "metadata": {
        "id": "KjmxyFihTzho"
      },
      "source": [
        "It looks like we may have a few outliers present. To see if those are valid instances or not, let's look at the corresponding rows."
      ]
    },
    {
      "cell_type": "code",
      "metadata": {
        "id": "-SHa-5rcee_u",
        "outputId": "be23b408-cd8d-4d46-c564-e9a04bee36a8",
        "colab": {
          "base_uri": "https://localhost:8080/",
          "height": 567
        }
      },
      "source": [
        "movies_df.sort_values(by='popularity',ascending=False)[:5]"
      ],
      "execution_count": 6,
      "outputs": [
        {
          "output_type": "execute_result",
          "data": {
            "text/html": [
              "<div>\n",
              "<style scoped>\n",
              "    .dataframe tbody tr th:only-of-type {\n",
              "        vertical-align: middle;\n",
              "    }\n",
              "\n",
              "    .dataframe tbody tr th {\n",
              "        vertical-align: top;\n",
              "    }\n",
              "\n",
              "    .dataframe thead th {\n",
              "        text-align: right;\n",
              "    }\n",
              "</style>\n",
              "<table border=\"1\" class=\"dataframe\">\n",
              "  <thead>\n",
              "    <tr style=\"text-align: right;\">\n",
              "      <th></th>\n",
              "      <th>budget</th>\n",
              "      <th>genres</th>\n",
              "      <th>homepage</th>\n",
              "      <th>id</th>\n",
              "      <th>keywords</th>\n",
              "      <th>original_language</th>\n",
              "      <th>original_title</th>\n",
              "      <th>overview</th>\n",
              "      <th>popularity</th>\n",
              "      <th>production_companies</th>\n",
              "      <th>production_countries</th>\n",
              "      <th>release_date</th>\n",
              "      <th>revenue</th>\n",
              "      <th>runtime</th>\n",
              "      <th>spoken_languages</th>\n",
              "      <th>status</th>\n",
              "      <th>tagline</th>\n",
              "      <th>title</th>\n",
              "      <th>vote_average</th>\n",
              "      <th>vote_count</th>\n",
              "    </tr>\n",
              "  </thead>\n",
              "  <tbody>\n",
              "    <tr>\n",
              "      <th>546</th>\n",
              "      <td>74000000</td>\n",
              "      <td>[{\"id\": 10751, \"name\": \"Family\"}, {\"id\": 16, \"...</td>\n",
              "      <td>http://www.minionsmovie.com/</td>\n",
              "      <td>211672</td>\n",
              "      <td>[{\"id\": 3487, \"name\": \"assistant\"}, {\"id\": 179...</td>\n",
              "      <td>en</td>\n",
              "      <td>Minions</td>\n",
              "      <td>Minions Stuart, Kevin and Bob are recruited by...</td>\n",
              "      <td>875.581305</td>\n",
              "      <td>[{\"name\": \"Universal Pictures\", \"id\": 33}, {\"n...</td>\n",
              "      <td>[{\"iso_3166_1\": \"US\", \"name\": \"United States o...</td>\n",
              "      <td>2015-06-17</td>\n",
              "      <td>1156730962</td>\n",
              "      <td>91.0</td>\n",
              "      <td>[{\"iso_639_1\": \"en\", \"name\": \"English\"}]</td>\n",
              "      <td>Released</td>\n",
              "      <td>Before Gru, they had a history of bad bosses</td>\n",
              "      <td>Minions</td>\n",
              "      <td>6.4</td>\n",
              "      <td>4571</td>\n",
              "    </tr>\n",
              "    <tr>\n",
              "      <th>95</th>\n",
              "      <td>165000000</td>\n",
              "      <td>[{\"id\": 12, \"name\": \"Adventure\"}, {\"id\": 18, \"...</td>\n",
              "      <td>http://www.interstellarmovie.net/</td>\n",
              "      <td>157336</td>\n",
              "      <td>[{\"id\": 83, \"name\": \"saving the world\"}, {\"id\"...</td>\n",
              "      <td>en</td>\n",
              "      <td>Interstellar</td>\n",
              "      <td>Interstellar chronicles the adventures of a gr...</td>\n",
              "      <td>724.247784</td>\n",
              "      <td>[{\"name\": \"Paramount Pictures\", \"id\": 4}, {\"na...</td>\n",
              "      <td>[{\"iso_3166_1\": \"CA\", \"name\": \"Canada\"}, {\"iso...</td>\n",
              "      <td>2014-11-05</td>\n",
              "      <td>675120017</td>\n",
              "      <td>169.0</td>\n",
              "      <td>[{\"iso_639_1\": \"en\", \"name\": \"English\"}]</td>\n",
              "      <td>Released</td>\n",
              "      <td>Mankind was born on Earth. It was never meant ...</td>\n",
              "      <td>Interstellar</td>\n",
              "      <td>8.1</td>\n",
              "      <td>10867</td>\n",
              "    </tr>\n",
              "    <tr>\n",
              "      <th>788</th>\n",
              "      <td>58000000</td>\n",
              "      <td>[{\"id\": 28, \"name\": \"Action\"}, {\"id\": 12, \"nam...</td>\n",
              "      <td>http://www.foxmovies.com/movies/deadpool</td>\n",
              "      <td>293660</td>\n",
              "      <td>[{\"id\": 2095, \"name\": \"anti hero\"}, {\"id\": 307...</td>\n",
              "      <td>en</td>\n",
              "      <td>Deadpool</td>\n",
              "      <td>Deadpool tells the origin story of former Spec...</td>\n",
              "      <td>514.569956</td>\n",
              "      <td>[{\"name\": \"Twentieth Century Fox Film Corporat...</td>\n",
              "      <td>[{\"iso_3166_1\": \"US\", \"name\": \"United States o...</td>\n",
              "      <td>2016-02-09</td>\n",
              "      <td>783112979</td>\n",
              "      <td>108.0</td>\n",
              "      <td>[{\"iso_639_1\": \"en\", \"name\": \"English\"}]</td>\n",
              "      <td>Released</td>\n",
              "      <td>Witness the beginning of a happy ending</td>\n",
              "      <td>Deadpool</td>\n",
              "      <td>7.4</td>\n",
              "      <td>10995</td>\n",
              "    </tr>\n",
              "    <tr>\n",
              "      <th>94</th>\n",
              "      <td>170000000</td>\n",
              "      <td>[{\"id\": 28, \"name\": \"Action\"}, {\"id\": 878, \"na...</td>\n",
              "      <td>http://marvel.com/guardians</td>\n",
              "      <td>118340</td>\n",
              "      <td>[{\"id\": 8828, \"name\": \"marvel comic\"}, {\"id\": ...</td>\n",
              "      <td>en</td>\n",
              "      <td>Guardians of the Galaxy</td>\n",
              "      <td>Light years from Earth, 26 years after being a...</td>\n",
              "      <td>481.098624</td>\n",
              "      <td>[{\"name\": \"Marvel Studios\", \"id\": 420}, {\"name...</td>\n",
              "      <td>[{\"iso_3166_1\": \"GB\", \"name\": \"United Kingdom\"...</td>\n",
              "      <td>2014-07-30</td>\n",
              "      <td>773328629</td>\n",
              "      <td>121.0</td>\n",
              "      <td>[{\"iso_639_1\": \"en\", \"name\": \"English\"}]</td>\n",
              "      <td>Released</td>\n",
              "      <td>All heroes start somewhere.</td>\n",
              "      <td>Guardians of the Galaxy</td>\n",
              "      <td>7.9</td>\n",
              "      <td>9742</td>\n",
              "    </tr>\n",
              "    <tr>\n",
              "      <th>127</th>\n",
              "      <td>150000000</td>\n",
              "      <td>[{\"id\": 28, \"name\": \"Action\"}, {\"id\": 12, \"nam...</td>\n",
              "      <td>http://www.madmaxmovie.com/</td>\n",
              "      <td>76341</td>\n",
              "      <td>[{\"id\": 2964, \"name\": \"future\"}, {\"id\": 3713, ...</td>\n",
              "      <td>en</td>\n",
              "      <td>Mad Max: Fury Road</td>\n",
              "      <td>An apocalyptic story set in the furthest reach...</td>\n",
              "      <td>434.278564</td>\n",
              "      <td>[{\"name\": \"Village Roadshow Pictures\", \"id\": 7...</td>\n",
              "      <td>[{\"iso_3166_1\": \"AU\", \"name\": \"Australia\"}, {\"...</td>\n",
              "      <td>2015-05-13</td>\n",
              "      <td>378858340</td>\n",
              "      <td>120.0</td>\n",
              "      <td>[{\"iso_639_1\": \"en\", \"name\": \"English\"}]</td>\n",
              "      <td>Released</td>\n",
              "      <td>What a Lovely Day.</td>\n",
              "      <td>Mad Max: Fury Road</td>\n",
              "      <td>7.2</td>\n",
              "      <td>9427</td>\n",
              "    </tr>\n",
              "  </tbody>\n",
              "</table>\n",
              "</div>"
            ],
            "text/plain": [
              "        budget  ... vote_count\n",
              "546   74000000  ...       4571\n",
              "95   165000000  ...      10867\n",
              "788   58000000  ...      10995\n",
              "94   170000000  ...       9742\n",
              "127  150000000  ...       9427\n",
              "\n",
              "[5 rows x 20 columns]"
            ]
          },
          "metadata": {
            "tags": []
          },
          "execution_count": 6
        }
      ]
    },
    {
      "cell_type": "markdown",
      "metadata": {
        "id": "zmn_dJrLfHfV"
      },
      "source": [
        "Wow! I rememeber the Minions movie being popular but not *that* popular! The other top movies seem valid as well - I was working at a movie theater when Deadpool came out, and it was massively popular!\n",
        "\n",
        "Although these are outliers, they are still valid instances, and thus we will not modify or drop any of them.\n",
        "\n",
        "Now let's look at some of the lowest popularities."
      ]
    },
    {
      "cell_type": "code",
      "metadata": {
        "id": "RHTEuhRpi9qz",
        "outputId": "cc2fca09-5e6f-4d2b-fbf3-8e3d497bb1b6",
        "colab": {
          "base_uri": "https://localhost:8080/",
          "height": 651
        }
      },
      "source": [
        "movies_df.sort_values(by='popularity',ascending=True)[:5]"
      ],
      "execution_count": 7,
      "outputs": [
        {
          "output_type": "execute_result",
          "data": {
            "text/html": [
              "<div>\n",
              "<style scoped>\n",
              "    .dataframe tbody tr th:only-of-type {\n",
              "        vertical-align: middle;\n",
              "    }\n",
              "\n",
              "    .dataframe tbody tr th {\n",
              "        vertical-align: top;\n",
              "    }\n",
              "\n",
              "    .dataframe thead th {\n",
              "        text-align: right;\n",
              "    }\n",
              "</style>\n",
              "<table border=\"1\" class=\"dataframe\">\n",
              "  <thead>\n",
              "    <tr style=\"text-align: right;\">\n",
              "      <th></th>\n",
              "      <th>budget</th>\n",
              "      <th>genres</th>\n",
              "      <th>homepage</th>\n",
              "      <th>id</th>\n",
              "      <th>keywords</th>\n",
              "      <th>original_language</th>\n",
              "      <th>original_title</th>\n",
              "      <th>overview</th>\n",
              "      <th>popularity</th>\n",
              "      <th>production_companies</th>\n",
              "      <th>production_countries</th>\n",
              "      <th>release_date</th>\n",
              "      <th>revenue</th>\n",
              "      <th>runtime</th>\n",
              "      <th>spoken_languages</th>\n",
              "      <th>status</th>\n",
              "      <th>tagline</th>\n",
              "      <th>title</th>\n",
              "      <th>vote_average</th>\n",
              "      <th>vote_count</th>\n",
              "    </tr>\n",
              "  </thead>\n",
              "  <tbody>\n",
              "    <tr>\n",
              "      <th>4553</th>\n",
              "      <td>0</td>\n",
              "      <td>[]</td>\n",
              "      <td>NaN</td>\n",
              "      <td>380097</td>\n",
              "      <td>[]</td>\n",
              "      <td>en</td>\n",
              "      <td>America Is Still the Place</td>\n",
              "      <td>1971 post civil rights San Francisco seemed li...</td>\n",
              "      <td>0.000000</td>\n",
              "      <td>[]</td>\n",
              "      <td>[]</td>\n",
              "      <td>NaN</td>\n",
              "      <td>0</td>\n",
              "      <td>0.0</td>\n",
              "      <td>[]</td>\n",
              "      <td>Released</td>\n",
              "      <td>NaN</td>\n",
              "      <td>America Is Still the Place</td>\n",
              "      <td>0.0</td>\n",
              "      <td>0</td>\n",
              "    </tr>\n",
              "    <tr>\n",
              "      <th>3361</th>\n",
              "      <td>0</td>\n",
              "      <td>[{\"id\": 27, \"name\": \"Horror\"}, {\"id\": 28, \"nam...</td>\n",
              "      <td>NaN</td>\n",
              "      <td>77156</td>\n",
              "      <td>[]</td>\n",
              "      <td>en</td>\n",
              "      <td>Alien Zone</td>\n",
              "      <td>A man who is having an affair with a married w...</td>\n",
              "      <td>0.000372</td>\n",
              "      <td>[]</td>\n",
              "      <td>[{\"iso_3166_1\": \"US\", \"name\": \"United States o...</td>\n",
              "      <td>1978-11-22</td>\n",
              "      <td>0</td>\n",
              "      <td>90.0</td>\n",
              "      <td>[{\"iso_639_1\": \"en\", \"name\": \"English\"}]</td>\n",
              "      <td>Released</td>\n",
              "      <td>Don't you dare go in there!</td>\n",
              "      <td>Alien Zone</td>\n",
              "      <td>4.0</td>\n",
              "      <td>3</td>\n",
              "    </tr>\n",
              "    <tr>\n",
              "      <th>4727</th>\n",
              "      <td>0</td>\n",
              "      <td>[{\"id\": 28, \"name\": \"Action\"}, {\"id\": 18, \"nam...</td>\n",
              "      <td>NaN</td>\n",
              "      <td>65448</td>\n",
              "      <td>[{\"id\": 378, \"name\": \"prison\"}, {\"id\": 209476,...</td>\n",
              "      <td>en</td>\n",
              "      <td>Penitentiary</td>\n",
              "      <td>A hitchhiker named Martel Gordone gets in a fi...</td>\n",
              "      <td>0.001117</td>\n",
              "      <td>[]</td>\n",
              "      <td>[]</td>\n",
              "      <td>1979-12-01</td>\n",
              "      <td>0</td>\n",
              "      <td>99.0</td>\n",
              "      <td>[{\"iso_639_1\": \"en\", \"name\": \"English\"}]</td>\n",
              "      <td>Released</td>\n",
              "      <td>There's only one way out, and 100 fools stand ...</td>\n",
              "      <td>Penitentiary</td>\n",
              "      <td>4.9</td>\n",
              "      <td>8</td>\n",
              "    </tr>\n",
              "    <tr>\n",
              "      <th>4118</th>\n",
              "      <td>0</td>\n",
              "      <td>[]</td>\n",
              "      <td>NaN</td>\n",
              "      <td>325140</td>\n",
              "      <td>[]</td>\n",
              "      <td>en</td>\n",
              "      <td>Hum To Mohabbat Karega</td>\n",
              "      <td>Raju, a waiter, is in love with the famous TV ...</td>\n",
              "      <td>0.001186</td>\n",
              "      <td>[]</td>\n",
              "      <td>[]</td>\n",
              "      <td>2000-05-26</td>\n",
              "      <td>0</td>\n",
              "      <td>0.0</td>\n",
              "      <td>[]</td>\n",
              "      <td>Released</td>\n",
              "      <td>NaN</td>\n",
              "      <td>Hum To Mohabbat Karega</td>\n",
              "      <td>0.0</td>\n",
              "      <td>0</td>\n",
              "    </tr>\n",
              "    <tr>\n",
              "      <th>4625</th>\n",
              "      <td>0</td>\n",
              "      <td>[{\"id\": 27, \"name\": \"Horror\"}]</td>\n",
              "      <td>NaN</td>\n",
              "      <td>426067</td>\n",
              "      <td>[]</td>\n",
              "      <td>en</td>\n",
              "      <td>Midnight Cabaret</td>\n",
              "      <td>A Broadway producer puts on a play with a Devi...</td>\n",
              "      <td>0.001389</td>\n",
              "      <td>[]</td>\n",
              "      <td>[]</td>\n",
              "      <td>1990-01-01</td>\n",
              "      <td>0</td>\n",
              "      <td>94.0</td>\n",
              "      <td>[{\"iso_639_1\": \"en\", \"name\": \"English\"}]</td>\n",
              "      <td>Released</td>\n",
              "      <td>The hot spot where Satan's waitin'.</td>\n",
              "      <td>Midnight Cabaret</td>\n",
              "      <td>0.0</td>\n",
              "      <td>0</td>\n",
              "    </tr>\n",
              "  </tbody>\n",
              "</table>\n",
              "</div>"
            ],
            "text/plain": [
              "      budget  ... vote_count\n",
              "4553       0  ...          0\n",
              "3361       0  ...          3\n",
              "4727       0  ...          8\n",
              "4118       0  ...          0\n",
              "4625       0  ...          0\n",
              "\n",
              "[5 rows x 20 columns]"
            ]
          },
          "metadata": {
            "tags": []
          },
          "execution_count": 7
        }
      ]
    },
    {
      "cell_type": "markdown",
      "metadata": {
        "id": "lHjw7y6LjIEc"
      },
      "source": [
        "This provides insight into what type of instances we may need to drop - two of these have a runtime of 0! We can also see some missing or suspicious values that we will need to look at. Furthermore, I'm a bit worried about instances when the vote count is very low, as this will make vote average not representative. Let's look at some of the vote average extremes."
      ]
    },
    {
      "cell_type": "code",
      "metadata": {
        "id": "rK0cc4GgNUV2",
        "outputId": "934d0840-c7ee-4aca-8491-7c708670c120",
        "colab": {
          "base_uri": "https://localhost:8080/",
          "height": 584
        }
      },
      "source": [
        "movies_df.sort_values(by='vote_average', ascending = False)[:5]"
      ],
      "execution_count": 8,
      "outputs": [
        {
          "output_type": "execute_result",
          "data": {
            "text/html": [
              "<div>\n",
              "<style scoped>\n",
              "    .dataframe tbody tr th:only-of-type {\n",
              "        vertical-align: middle;\n",
              "    }\n",
              "\n",
              "    .dataframe tbody tr th {\n",
              "        vertical-align: top;\n",
              "    }\n",
              "\n",
              "    .dataframe thead th {\n",
              "        text-align: right;\n",
              "    }\n",
              "</style>\n",
              "<table border=\"1\" class=\"dataframe\">\n",
              "  <thead>\n",
              "    <tr style=\"text-align: right;\">\n",
              "      <th></th>\n",
              "      <th>budget</th>\n",
              "      <th>genres</th>\n",
              "      <th>homepage</th>\n",
              "      <th>id</th>\n",
              "      <th>keywords</th>\n",
              "      <th>original_language</th>\n",
              "      <th>original_title</th>\n",
              "      <th>overview</th>\n",
              "      <th>popularity</th>\n",
              "      <th>production_companies</th>\n",
              "      <th>production_countries</th>\n",
              "      <th>release_date</th>\n",
              "      <th>revenue</th>\n",
              "      <th>runtime</th>\n",
              "      <th>spoken_languages</th>\n",
              "      <th>status</th>\n",
              "      <th>tagline</th>\n",
              "      <th>title</th>\n",
              "      <th>vote_average</th>\n",
              "      <th>vote_count</th>\n",
              "    </tr>\n",
              "  </thead>\n",
              "  <tbody>\n",
              "    <tr>\n",
              "      <th>3519</th>\n",
              "      <td>0</td>\n",
              "      <td>[{\"id\": 35, \"name\": \"Comedy\"}]</td>\n",
              "      <td>NaN</td>\n",
              "      <td>89861</td>\n",
              "      <td>[{\"id\": 131, \"name\": \"italy\"}, {\"id\": 8250, \"n...</td>\n",
              "      <td>en</td>\n",
              "      <td>Stiff Upper Lips</td>\n",
              "      <td>Stiff Upper Lips is a broad parody of British ...</td>\n",
              "      <td>0.356495</td>\n",
              "      <td>[]</td>\n",
              "      <td>[{\"iso_3166_1\": \"GB\", \"name\": \"United Kingdom\"...</td>\n",
              "      <td>1998-06-12</td>\n",
              "      <td>0</td>\n",
              "      <td>99.0</td>\n",
              "      <td>[{\"iso_639_1\": \"en\", \"name\": \"English\"}]</td>\n",
              "      <td>Released</td>\n",
              "      <td>NaN</td>\n",
              "      <td>Stiff Upper Lips</td>\n",
              "      <td>10.0</td>\n",
              "      <td>1</td>\n",
              "    </tr>\n",
              "    <tr>\n",
              "      <th>4247</th>\n",
              "      <td>1</td>\n",
              "      <td>[{\"id\": 10749, \"name\": \"Romance\"}, {\"id\": 35, ...</td>\n",
              "      <td>NaN</td>\n",
              "      <td>361505</td>\n",
              "      <td>[]</td>\n",
              "      <td>en</td>\n",
              "      <td>Me You and Five Bucks</td>\n",
              "      <td>A womanizing yet lovable loser, Charlie, a wai...</td>\n",
              "      <td>0.094105</td>\n",
              "      <td>[]</td>\n",
              "      <td>[]</td>\n",
              "      <td>2015-07-07</td>\n",
              "      <td>0</td>\n",
              "      <td>90.0</td>\n",
              "      <td>[]</td>\n",
              "      <td>Released</td>\n",
              "      <td>A story about second, second chances</td>\n",
              "      <td>Me You and Five Bucks</td>\n",
              "      <td>10.0</td>\n",
              "      <td>2</td>\n",
              "    </tr>\n",
              "    <tr>\n",
              "      <th>4045</th>\n",
              "      <td>0</td>\n",
              "      <td>[{\"id\": 35, \"name\": \"Comedy\"}, {\"id\": 18, \"nam...</td>\n",
              "      <td>NaN</td>\n",
              "      <td>78373</td>\n",
              "      <td>[{\"id\": 1415, \"name\": \"small town\"}, {\"id\": 15...</td>\n",
              "      <td>en</td>\n",
              "      <td>Dancer, Texas Pop. 81</td>\n",
              "      <td>Four guys, best friends, have grown up togethe...</td>\n",
              "      <td>0.376662</td>\n",
              "      <td>[{\"name\": \"HSX Films\", \"id\": 4714}, {\"name\": \"...</td>\n",
              "      <td>[{\"iso_3166_1\": \"US\", \"name\": \"United States o...</td>\n",
              "      <td>1998-05-01</td>\n",
              "      <td>565592</td>\n",
              "      <td>97.0</td>\n",
              "      <td>[{\"iso_639_1\": \"en\", \"name\": \"English\"}]</td>\n",
              "      <td>Released</td>\n",
              "      <td>in the middle of nowhere they had everything</td>\n",
              "      <td>Dancer, Texas Pop. 81</td>\n",
              "      <td>10.0</td>\n",
              "      <td>1</td>\n",
              "    </tr>\n",
              "    <tr>\n",
              "      <th>4662</th>\n",
              "      <td>0</td>\n",
              "      <td>[{\"id\": 35, \"name\": \"Comedy\"}]</td>\n",
              "      <td>NaN</td>\n",
              "      <td>40963</td>\n",
              "      <td>[{\"id\": 10183, \"name\": \"independent film\"}]</td>\n",
              "      <td>en</td>\n",
              "      <td>Little Big Top</td>\n",
              "      <td>An aging out of work clown returns to his smal...</td>\n",
              "      <td>0.092100</td>\n",
              "      <td>[{\"name\": \"Fly High Films\", \"id\": 24248}]</td>\n",
              "      <td>[{\"iso_3166_1\": \"US\", \"name\": \"United States o...</td>\n",
              "      <td>2006-01-01</td>\n",
              "      <td>0</td>\n",
              "      <td>0.0</td>\n",
              "      <td>[{\"iso_639_1\": \"en\", \"name\": \"English\"}]</td>\n",
              "      <td>Rumored</td>\n",
              "      <td>NaN</td>\n",
              "      <td>Little Big Top</td>\n",
              "      <td>10.0</td>\n",
              "      <td>1</td>\n",
              "    </tr>\n",
              "    <tr>\n",
              "      <th>3992</th>\n",
              "      <td>0</td>\n",
              "      <td>[]</td>\n",
              "      <td>NaN</td>\n",
              "      <td>346081</td>\n",
              "      <td>[]</td>\n",
              "      <td>en</td>\n",
              "      <td>Sardaarji</td>\n",
              "      <td>A ghost hunter uses bottles to capture trouble...</td>\n",
              "      <td>0.296981</td>\n",
              "      <td>[]</td>\n",
              "      <td>[{\"iso_3166_1\": \"IN\", \"name\": \"India\"}]</td>\n",
              "      <td>2015-06-26</td>\n",
              "      <td>0</td>\n",
              "      <td>0.0</td>\n",
              "      <td>[]</td>\n",
              "      <td>Released</td>\n",
              "      <td>NaN</td>\n",
              "      <td>Sardaarji</td>\n",
              "      <td>9.5</td>\n",
              "      <td>2</td>\n",
              "    </tr>\n",
              "  </tbody>\n",
              "</table>\n",
              "</div>"
            ],
            "text/plain": [
              "      budget  ... vote_count\n",
              "3519       0  ...          1\n",
              "4247       1  ...          2\n",
              "4045       0  ...          1\n",
              "4662       0  ...          1\n",
              "3992       0  ...          2\n",
              "\n",
              "[5 rows x 20 columns]"
            ]
          },
          "metadata": {
            "tags": []
          },
          "execution_count": 8
        }
      ]
    },
    {
      "cell_type": "markdown",
      "metadata": {
        "id": "hKnpplMUNv28"
      },
      "source": [
        "Sure enough, the movies with the best vote averages were only reviewed one or two times! We will have to cut off a certain threshold of vote counts to fix this."
      ]
    },
    {
      "cell_type": "markdown",
      "metadata": {
        "id": "d_QZS4juOxxT"
      },
      "source": [
        "Now let's take a look at the different languages we have."
      ]
    },
    {
      "cell_type": "code",
      "metadata": {
        "id": "x3olp-FORyn8",
        "outputId": "3d14f9b3-af73-42e2-f5c7-89cdc1cbe67a",
        "colab": {
          "base_uri": "https://localhost:8080/",
          "height": 692
        }
      },
      "source": [
        "movies_df['original_language'].value_counts()"
      ],
      "execution_count": 9,
      "outputs": [
        {
          "output_type": "execute_result",
          "data": {
            "text/plain": [
              "en    4505\n",
              "fr      70\n",
              "es      32\n",
              "zh      27\n",
              "de      27\n",
              "hi      19\n",
              "ja      16\n",
              "it      14\n",
              "cn      12\n",
              "ru      11\n",
              "ko      11\n",
              "pt       9\n",
              "da       7\n",
              "sv       5\n",
              "nl       4\n",
              "fa       4\n",
              "he       3\n",
              "th       3\n",
              "cs       2\n",
              "ta       2\n",
              "ro       2\n",
              "id       2\n",
              "ar       2\n",
              "no       1\n",
              "tr       1\n",
              "sl       1\n",
              "af       1\n",
              "el       1\n",
              "pl       1\n",
              "ky       1\n",
              "vi       1\n",
              "is       1\n",
              "te       1\n",
              "xx       1\n",
              "hu       1\n",
              "nb       1\n",
              "ps       1\n",
              "Name: original_language, dtype: int64"
            ]
          },
          "metadata": {
            "tags": []
          },
          "execution_count": 9
        }
      ]
    },
    {
      "cell_type": "code",
      "metadata": {
        "id": "kSjBByi7SUVc",
        "outputId": "89670238-63c0-4aa5-dc6a-5b7b1452f2ec",
        "colab": {
          "base_uri": "https://localhost:8080/",
          "height": 607
        }
      },
      "source": [
        "### Pie Chart\n",
        "\n",
        "labels = np.array(['English','Other'])\n",
        "sizes = np.array([4505, sum(movies_df['original_language'].value_counts()) - 4505])\n",
        "\n",
        "plt.figure(figsize=(8,9))\n",
        "\n",
        "plt.pie(sizes, labels=labels, autopct='%1.1f%%', explode=[0,0.08], startangle=90)\n",
        "plt.title('Original Languages of Movies', fontdict={'fontsize': 14})\n",
        "plt.axis('equal')"
      ],
      "execution_count": 10,
      "outputs": [
        {
          "output_type": "execute_result",
          "data": {
            "text/plain": [
              "(-1.107919947587085,\n",
              " 1.1071445050016366,\n",
              " -1.110482490994638,\n",
              " 1.1827216234688134)"
            ]
          },
          "metadata": {
            "tags": []
          },
          "execution_count": 10
        },
        {
          "output_type": "display_data",
          "data": {
            "image/png": "[encoded data removed]",
            "text/plain": [
              "<Figure size 576x648 with 1 Axes>"
            ]
          },
          "metadata": {
            "tags": []
          }
        }
      ]
    },
    {
      "cell_type": "markdown",
      "metadata": {
        "id": "7yv_4xxZUngP"
      },
      "source": [
        "93.8% of the movies are in english. There are a few different ways we could encode this column. One method would be to one-hot encode by creating a binary column for each different language. This would add a ton of new features to the data, with some only having 1 or 2 positive instances. Another way we could encode this is by converting it to just english or not english. This would only add one column and likely contribute to popularity still."
      ]
    },
    {
      "cell_type": "markdown",
      "metadata": {
        "id": "-hT61IZMIOBK"
      },
      "source": [
        "# Cleaning"
      ]
    },
    {
      "cell_type": "markdown",
      "metadata": {
        "id": "csyte1oMMlUx"
      },
      "source": [
        "Let's create our features dataframe and clean it up a bit. I am choosing all the features that I believe impact a movies popularity. I am also leaving out revenue as a feature, as this is something revealed a while after a movie comes out."
      ]
    },
    {
      "cell_type": "code",
      "metadata": {
        "id": "ZyHDJ_xKMkHC"
      },
      "source": [
        "features_df = movies_df[['budget','genres','original_language','runtime','vote_average','vote_count']]\n",
        "labels_df = movies_df['popularity']"
      ],
      "execution_count": 11,
      "outputs": []
    },
    {
      "cell_type": "markdown",
      "metadata": {
        "id": "hQFez_ORQXFg"
      },
      "source": [
        "First let's drop any rows with null values"
      ]
    },
    {
      "cell_type": "code",
      "metadata": {
        "id": "IdwnP0enISPR"
      },
      "source": [
        "features_df = features_df.dropna()"
      ],
      "execution_count": 12,
      "outputs": []
    },
    {
      "cell_type": "markdown",
      "metadata": {
        "id": "dVT1OJNbQYrM"
      },
      "source": [
        "Now let's drop instances with very few vote counts. I decided to have 10 as the cutoff - if 10 or more people voted, it will likely have a fairly accurate vote average. "
      ]
    },
    {
      "cell_type": "code",
      "metadata": {
        "id": "8GOQLIDlIbEl"
      },
      "source": [
        "features_df = features_df[features_df['vote_count'] >= 10]"
      ],
      "execution_count": 13,
      "outputs": []
    },
    {
      "cell_type": "markdown",
      "metadata": {
        "id": "7RcWMDB7QflS"
      },
      "source": [
        "Now let's drop any values with a runtime of zero"
      ]
    },
    {
      "cell_type": "code",
      "metadata": {
        "id": "4g1k_efRIdxO"
      },
      "source": [
        "features_df = features_df[features_df['runtime'] != 0.0]"
      ],
      "execution_count": 14,
      "outputs": []
    },
    {
      "cell_type": "markdown",
      "metadata": {
        "id": "nkKPPvvAQfH3"
      },
      "source": [
        "And lastly, we have to set the labels dataframe to only include the rows of the new features dataframe"
      ]
    },
    {
      "cell_type": "code",
      "metadata": {
        "id": "OhjAcrHZIgGG"
      },
      "source": [
        "labels_df = labels_df[features_df.index]"
      ],
      "execution_count": 15,
      "outputs": []
    },
    {
      "cell_type": "markdown",
      "metadata": {
        "id": "t23sRvUdt2-7"
      },
      "source": [
        "Now let's get some insight into our cleaned features"
      ]
    },
    {
      "cell_type": "code",
      "metadata": {
        "id": "PyYfGdEwIh_C",
        "outputId": "7bdd8ff2-0f65-4ee6-cfa5-95ef1ca25e07",
        "colab": {
          "base_uri": "https://localhost:8080/",
          "height": 287
        }
      },
      "source": [
        "features_df.describe()"
      ],
      "execution_count": 16,
      "outputs": [
        {
          "output_type": "execute_result",
          "data": {
            "text/html": [
              "<div>\n",
              "<style scoped>\n",
              "    .dataframe tbody tr th:only-of-type {\n",
              "        vertical-align: middle;\n",
              "    }\n",
              "\n",
              "    .dataframe tbody tr th {\n",
              "        vertical-align: top;\n",
              "    }\n",
              "\n",
              "    .dataframe thead th {\n",
              "        text-align: right;\n",
              "    }\n",
              "</style>\n",
              "<table border=\"1\" class=\"dataframe\">\n",
              "  <thead>\n",
              "    <tr style=\"text-align: right;\">\n",
              "      <th></th>\n",
              "      <th>budget</th>\n",
              "      <th>runtime</th>\n",
              "      <th>vote_average</th>\n",
              "      <th>vote_count</th>\n",
              "    </tr>\n",
              "  </thead>\n",
              "  <tbody>\n",
              "    <tr>\n",
              "      <th>count</th>\n",
              "      <td>4.386000e+03</td>\n",
              "      <td>4386.000000</td>\n",
              "      <td>4386.000000</td>\n",
              "      <td>4386.000000</td>\n",
              "    </tr>\n",
              "    <tr>\n",
              "      <th>mean</th>\n",
              "      <td>3.168441e+07</td>\n",
              "      <td>108.554492</td>\n",
              "      <td>6.228659</td>\n",
              "      <td>755.455084</td>\n",
              "    </tr>\n",
              "    <tr>\n",
              "      <th>std</th>\n",
              "      <td>4.164199e+07</td>\n",
              "      <td>20.705083</td>\n",
              "      <td>0.891691</td>\n",
              "      <td>1272.838558</td>\n",
              "    </tr>\n",
              "    <tr>\n",
              "      <th>min</th>\n",
              "      <td>0.000000e+00</td>\n",
              "      <td>25.000000</td>\n",
              "      <td>1.900000</td>\n",
              "      <td>10.000000</td>\n",
              "    </tr>\n",
              "    <tr>\n",
              "      <th>25%</th>\n",
              "      <td>2.917508e+06</td>\n",
              "      <td>95.000000</td>\n",
              "      <td>5.700000</td>\n",
              "      <td>84.000000</td>\n",
              "    </tr>\n",
              "    <tr>\n",
              "      <th>50%</th>\n",
              "      <td>1.700000e+07</td>\n",
              "      <td>105.000000</td>\n",
              "      <td>6.300000</td>\n",
              "      <td>290.000000</td>\n",
              "    </tr>\n",
              "    <tr>\n",
              "      <th>75%</th>\n",
              "      <td>4.200000e+07</td>\n",
              "      <td>119.000000</td>\n",
              "      <td>6.800000</td>\n",
              "      <td>831.750000</td>\n",
              "    </tr>\n",
              "    <tr>\n",
              "      <th>max</th>\n",
              "      <td>3.800000e+08</td>\n",
              "      <td>338.000000</td>\n",
              "      <td>8.500000</td>\n",
              "      <td>13752.000000</td>\n",
              "    </tr>\n",
              "  </tbody>\n",
              "</table>\n",
              "</div>"
            ],
            "text/plain": [
              "             budget      runtime  vote_average    vote_count\n",
              "count  4.386000e+03  4386.000000   4386.000000   4386.000000\n",
              "mean   3.168441e+07   108.554492      6.228659    755.455084\n",
              "std    4.164199e+07    20.705083      0.891691   1272.838558\n",
              "min    0.000000e+00    25.000000      1.900000     10.000000\n",
              "25%    2.917508e+06    95.000000      5.700000     84.000000\n",
              "50%    1.700000e+07   105.000000      6.300000    290.000000\n",
              "75%    4.200000e+07   119.000000      6.800000    831.750000\n",
              "max    3.800000e+08   338.000000      8.500000  13752.000000"
            ]
          },
          "metadata": {
            "tags": []
          },
          "execution_count": 16
        }
      ]
    },
    {
      "cell_type": "markdown",
      "metadata": {
        "id": "IFAAP_LmIr6I"
      },
      "source": [
        "We can already see that the average vote column has no zeros and no 10s, which is good. Furthermore, the shortest runtime is 25 minutes and the longest is 338 minutes, which seem accurate.\n",
        "\n",
        "There seem to be some films that have a budget of 0. We will keep these as valid because there are plenty of low-budget films (think Blair Witch Project)"
      ]
    },
    {
      "cell_type": "markdown",
      "metadata": {
        "id": "8gKKVefa-HHn"
      },
      "source": [
        "# Exploratory Data Analysis"
      ]
    },
    {
      "cell_type": "markdown",
      "metadata": {
        "id": "WbtEqhFePhlY"
      },
      "source": [
        "Now it is time to split our data into training and testing data. This is crucial, as we do not want to notice any overall patterns before our models run. We will only use the training data from now on and use our testing data to test our final models."
      ]
    },
    {
      "cell_type": "code",
      "metadata": {
        "id": "sG58k65-ofCq"
      },
      "source": [
        "from sklearn.model_selection import train_test_split\n",
        "\n",
        "# split data into 80% training and 20% testing\n",
        "x_train, x_test, y_train, y_test = train_test_split(features_df, labels_df, test_size=0.2, random_state = SEED)"
      ],
      "execution_count": 17,
      "outputs": []
    },
    {
      "cell_type": "markdown",
      "metadata": {
        "id": "ut6h_NGlTXhb"
      },
      "source": [
        "Let's look at our target variable distribution by plotting a histogram."
      ]
    },
    {
      "cell_type": "code",
      "metadata": {
        "id": "kQUGIMKEBHmu",
        "outputId": "b7016588-5ca1-4740-f80e-1535c1efc354",
        "colab": {
          "base_uri": "https://localhost:8080/",
          "height": 513
        }
      },
      "source": [
        "# Plot histogram\n",
        "plt.figure(figsize=(10,8))\n",
        "plt.hist(y_train.values,bins=50)\n",
        "plt.title('Movies popularity histogram')\n",
        "plt.xlabel('Popularity')\n",
        "plt.ylabel('# of movies')\n",
        "plt.show()"
      ],
      "execution_count": 18,
      "outputs": [
        {
          "output_type": "display_data",
          "data": {
            "image/png": "[encoded data removed]",
            "text/plain": [
              "<Figure size 720x576 with 1 Axes>"
            ]
          },
          "metadata": {
            "tags": [],
            "needs_background": "light"
          }
        }
      ]
    },
    {
      "cell_type": "markdown",
      "metadata": {
        "id": "zebb5wjgBVnZ"
      },
      "source": [
        "The data is heavily skewed left. The skew method will return how asymmetric the data is (with zero being completely symmetric)"
      ]
    },
    {
      "cell_type": "code",
      "metadata": {
        "id": "WlfoDlfYCojG",
        "outputId": "a07bb7fd-f21a-4bfc-ae6f-3009f73ff0dc",
        "colab": {
          "base_uri": "https://localhost:8080/",
          "height": 34
        }
      },
      "source": [
        "y_train.skew()"
      ],
      "execution_count": 19,
      "outputs": [
        {
          "output_type": "execute_result",
          "data": {
            "text/plain": [
              "10.183364196727132"
            ]
          },
          "metadata": {
            "tags": []
          },
          "execution_count": 19
        }
      ]
    },
    {
      "cell_type": "markdown",
      "metadata": {
        "id": "GZMzQuFDDHF7"
      },
      "source": [
        "Linear regression should have all variables be approximately normal, so let's fix this. There are a couple ways we could deal with skewed distributions. These include applying logarithms, square roots, or using the box cox method. I am going to use the log method here. Note that we have to do this to our testing data too. "
      ]
    },
    {
      "cell_type": "code",
      "metadata": {
        "id": "guYRKXwGChXX"
      },
      "source": [
        "y_train = np.log(y_train)\n",
        "y_test = np.log(y_test)"
      ],
      "execution_count": 20,
      "outputs": []
    },
    {
      "cell_type": "code",
      "metadata": {
        "id": "FrwAILVpCjZU",
        "outputId": "1a66eeac-dd70-4a78-a6e0-fa5ca1214063",
        "colab": {
          "base_uri": "https://localhost:8080/",
          "height": 513
        }
      },
      "source": [
        "# Plot histogram\n",
        "plt.figure(figsize=(10,8))\n",
        "plt.hist(y_train.values,bins=50)\n",
        "plt.title('Movies popularity histogram')\n",
        "plt.xlabel('Popularity')\n",
        "plt.ylabel('# of movies')\n",
        "plt.show()"
      ],
      "execution_count": 21,
      "outputs": [
        {
          "output_type": "display_data",
          "data": {
            "image/png": "[encoded data removed]",
            "text/plain": [
              "<Figure size 720x576 with 1 Axes>"
            ]
          },
          "metadata": {
            "tags": [],
            "needs_background": "light"
          }
        }
      ]
    },
    {
      "cell_type": "markdown",
      "metadata": {
        "id": "BPKIKD91CtLQ"
      },
      "source": [
        "That looks much better, but let's verify by checking the skew"
      ]
    },
    {
      "cell_type": "code",
      "metadata": {
        "id": "rbQk85ODCq--",
        "outputId": "81f51131-dc2f-4eb1-b073-949770812785",
        "colab": {
          "base_uri": "https://localhost:8080/",
          "height": 34
        }
      },
      "source": [
        "print('Popularity skew:', y_train.skew())"
      ],
      "execution_count": 22,
      "outputs": [
        {
          "output_type": "stream",
          "text": [
            "Popularity skew: -0.6371952981496516\n"
          ],
          "name": "stdout"
        }
      ]
    },
    {
      "cell_type": "markdown",
      "metadata": {
        "id": "xgYNi0Cu421Z"
      },
      "source": [
        "Great! Now let's look at the numerical features"
      ]
    },
    {
      "cell_type": "code",
      "metadata": {
        "id": "erhiqEuh4st3",
        "outputId": "daa540c7-00b1-4a17-9e9d-e7cf2bf017e4",
        "colab": {
          "base_uri": "https://localhost:8080/",
          "height": 761
        }
      },
      "source": [
        "### Plot histograms\n",
        "plt.rcParams['figure.figsize'] = 12, 12\n",
        "fig, axs = plt.subplots(2,2)\n",
        "fig.suptitle('Numerical Feature Histograms',y=0.95,fontsize=16)\n",
        "\n",
        "axs[0,1].hist(x_train['budget'].values,bins=30,color='salmon')\n",
        "axs[0,1].set_title('Budget')\n",
        "axs[0,1].set(xlabel='US dollars')\n",
        "axs[0,0].hist(x_train['runtime'].values,bins=30,color='salmon')\n",
        "axs[0,0].set_title('Runtime (min)')\n",
        "axs[0,0].set(xlabel='Minutes')\n",
        "axs[1,0].hist(x_train['vote_average'].values,bins=30,color='salmon')\n",
        "axs[1,0].set_title('Vote Average')\n",
        "axs[1,1].hist(x_train['vote_count'].values,bins=30,color='salmon')\n",
        "axs[1,1].set_title('Vote Count')\n",
        "plt.show()"
      ],
      "execution_count": 23,
      "outputs": [
        {
          "output_type": "display_data",
          "data": {
            "image/png": "[encoded data removed]",
            "text/plain": [
              "<Figure size 864x864 with 4 Axes>"
            ]
          },
          "metadata": {
            "tags": [],
            "needs_background": "light"
          }
        }
      ]
    },
    {
      "cell_type": "markdown",
      "metadata": {
        "id": "5gElv08D4-wc"
      },
      "source": [
        "Both runtime and vote average seem fairly normal, but vote count and budget are definitely skewed."
      ]
    },
    {
      "cell_type": "code",
      "metadata": {
        "id": "gmIYLn3STUSl",
        "outputId": "d7ea6e71-8919-4d0c-9760-571f7922ce79",
        "colab": {
          "base_uri": "https://localhost:8080/",
          "height": 87
        }
      },
      "source": [
        "print('Vote count skew:', x_train['vote_count'].skew())\n",
        "print('Vote average skew:', x_train['vote_average'].skew())\n",
        "print('Runtime skew:', x_train['runtime'].skew())\n",
        "print('Budget skew:', x_train['budget'].skew())"
      ],
      "execution_count": 24,
      "outputs": [
        {
          "output_type": "stream",
          "text": [
            "Vote count skew: 3.741920907656624\n",
            "Vote average skew: -0.4913710194811116\n",
            "Runtime skew: 1.6605641919217837\n",
            "Budget skew: 2.337119891576633\n"
          ],
          "name": "stdout"
        }
      ]
    },
    {
      "cell_type": "markdown",
      "metadata": {
        "id": "2JQ0TGhyXhi-"
      },
      "source": [
        "Let's normalize the budget and vote count variables. We will do another log transformation to vote count and do a square root transformation to budget. This is because budget contains zero values and taking the log of these would give us undefined values. "
      ]
    },
    {
      "cell_type": "code",
      "metadata": {
        "id": "6Zg4HfT5D9qL"
      },
      "source": [
        "x_train['vote_count'] = np.log(x_train['vote_count'].values)\n",
        "x_train['budget'] = np.sqrt(x_train['budget'].values)\n",
        "\n",
        "x_test['vote_count'] = np.log(x_test['vote_count'].values)\n",
        "x_test['budget'] = np.sqrt(x_test['budget'].values)"
      ],
      "execution_count": 25,
      "outputs": []
    },
    {
      "cell_type": "markdown",
      "metadata": {
        "id": "GTD_FXcUZva6"
      },
      "source": [
        "Now let's look at the distributions and skew values"
      ]
    },
    {
      "cell_type": "code",
      "metadata": {
        "id": "5-6g5YM7Z1TW",
        "outputId": "7df600d7-d84a-46c8-b82f-032eb52c3c8f",
        "colab": {
          "base_uri": "https://localhost:8080/",
          "height": 761
        }
      },
      "source": [
        "### Histograms\n",
        "\n",
        "plt.rcParams['figure.figsize'] = 12, 12\n",
        "fig, axs = plt.subplots(2,2)\n",
        "fig.suptitle('Numerical Feature Histograms',y=0.95,fontsize=16)\n",
        "\n",
        "axs[0,1].hist(x_train['budget'].values,bins=30,color='salmon')\n",
        "axs[0,1].set_title('Budget')\n",
        "axs[0,1].set(xlabel='US dollars')\n",
        "axs[0,0].hist(x_train['runtime'].values,bins=30,color='salmon')\n",
        "axs[0,0].set_title('Runtime (min)')\n",
        "axs[0,0].set(xlabel='Minutes')\n",
        "axs[1,0].hist(x_train['vote_average'].values,bins=30,color='salmon')\n",
        "axs[1,0].set_title('Vote Average')\n",
        "axs[1,1].hist(x_train['vote_count'].values,bins=30,color='salmon')\n",
        "axs[1,1].set_title('Vote Count')\n",
        "plt.show()"
      ],
      "execution_count": 26,
      "outputs": [
        {
          "output_type": "display_data",
          "data": {
            "image/png": "[encoded data removed]",
            "text/plain": [
              "<Figure size 864x864 with 4 Axes>"
            ]
          },
          "metadata": {
            "tags": [],
            "needs_background": "light"
          }
        }
      ]
    },
    {
      "cell_type": "code",
      "metadata": {
        "id": "2zozLUVKEH6N",
        "outputId": "9aa3eddb-9fef-4a26-80bc-61e3e06c0001",
        "colab": {
          "base_uri": "https://localhost:8080/",
          "height": 87
        }
      },
      "source": [
        "print(x_train['vote_count'].skew())\n",
        "print(x_train['vote_average'].skew())\n",
        "print(x_train['runtime'].skew())\n",
        "print(x_train['budget'].skew())"
      ],
      "execution_count": 27,
      "outputs": [
        {
          "output_type": "stream",
          "text": [
            "-0.08525112323299636\n",
            "-0.4913710194811116\n",
            "1.6605641919217837\n",
            "0.6463815735326411\n"
          ],
          "name": "stdout"
        }
      ]
    },
    {
      "cell_type": "markdown",
      "metadata": {
        "id": "YFF4SkiDZ6iV"
      },
      "source": [
        "We could work to normalize these more, but for the sake of this project, we will keep it how it is. Now that we have made the distributions more normal, let's look at the correlations between our variables."
      ]
    },
    {
      "cell_type": "code",
      "metadata": {
        "id": "2yh80-HpKugE",
        "outputId": "f5bbe689-b978-4eb5-d80f-c8be96012189",
        "colab": {
          "base_uri": "https://localhost:8080/",
          "height": 792
        }
      },
      "source": [
        "# Scatterplots\n",
        "\n",
        "plt.figure(figsize=(12,12))\n",
        "\n",
        "fig, axs = plt.subplots(2,2)\n",
        "fig.suptitle('Correlation to target',y=0.95,fontsize=16)\n",
        "axs[0,1].scatter(x_train['vote_average'].values, y_train.values,color='green')\n",
        "axs[0,1].set(xlabel='Vote Average',ylabel='Populariy')\n",
        "axs[0,0].scatter(x_train['budget'].values, y_train.values,color='green')\n",
        "axs[0,0].set(xlabel='Budget (US dollars)',ylabel='Populariy')\n",
        "axs[1,0].scatter(x_train['vote_count'].values, y_train.values,color='green')\n",
        "axs[1,0].set(xlabel='Vote Count',ylabel='Populariy')\n",
        "axs[1,1].scatter(x_train['runtime'].values, y_train.values,color='green')\n",
        "axs[1,1].set(xlabel='Runtime (min)',ylabel='Populariy')\n",
        "plt.show()"
      ],
      "execution_count": 28,
      "outputs": [
        {
          "output_type": "display_data",
          "data": {
            "text/plain": [
              "<Figure size 864x864 with 0 Axes>"
            ]
          },
          "metadata": {
            "tags": []
          }
        },
        {
          "output_type": "display_data",
          "data": {
            "image/png": "[encoded data removed]",
            "text/plain": [
              "<Figure size 864x864 with 4 Axes>"
            ]
          },
          "metadata": {
            "tags": [],
            "needs_background": "light"
          }
        }
      ]
    },
    {
      "cell_type": "markdown",
      "metadata": {
        "id": "oW_59GPLMCh_"
      },
      "source": [
        "Vote count definitely looks the most correlated to popularity, but let's check their actual correlation coefficients."
      ]
    },
    {
      "cell_type": "code",
      "metadata": {
        "id": "5LBZ6gquMJP8",
        "outputId": "6926c16c-d27f-408e-d1ee-7b8ffc2b5500",
        "colab": {
          "base_uri": "https://localhost:8080/",
          "height": 123
        }
      },
      "source": [
        "corr_matrix = pd.concat([x_train,y_train],axis=1).corr()\n",
        "\n",
        "corr_matrix['popularity'].sort_values(ascending=False)"
      ],
      "execution_count": 29,
      "outputs": [
        {
          "output_type": "execute_result",
          "data": {
            "text/plain": [
              "popularity      1.000000\n",
              "vote_count      0.916700\n",
              "budget          0.585248\n",
              "vote_average    0.331258\n",
              "runtime         0.208239\n",
              "Name: popularity, dtype: float64"
            ]
          },
          "metadata": {
            "tags": []
          },
          "execution_count": 29
        }
      ]
    },
    {
      "cell_type": "markdown",
      "metadata": {
        "id": "8FbjMavMNGNy"
      },
      "source": [
        "Vote count is indeed the most correlated. The others are still correlated and we can now check off the linearity assumption of Linear Regression. We can also check off our homoscedasticity assumption as the residuals are approximately equal throughout each scatterplot. If they were not equal, we would see a strong cone shape. Now let's look at how our features correlate to each other."
      ]
    },
    {
      "cell_type": "code",
      "metadata": {
        "id": "BAlyyoGcNWYA",
        "outputId": "5b954f9d-04c1-4da2-a5f4-286bf695db53",
        "colab": {
          "base_uri": "https://localhost:8080/",
          "height": 1000
        }
      },
      "source": [
        "from pandas.plotting import scatter_matrix\n",
        "\n",
        "scatter_matrix(x_train[['budget','runtime','vote_count','vote_average']], figsize=(12,12))"
      ],
      "execution_count": 30,
      "outputs": [
        {
          "output_type": "execute_result",
          "data": {
            "text/plain": [
              "array([[<matplotlib.axes._subplots.AxesSubplot object at 0x7fb635131828>,\n",
              "        <matplotlib.axes._subplots.AxesSubplot object at 0x7fb6337e66d8>,\n",
              "        <matplotlib.axes._subplots.AxesSubplot object at 0x7fb633799940>,\n",
              "        <matplotlib.axes._subplots.AxesSubplot object at 0x7fb63374dba8>],\n",
              "       [<matplotlib.axes._subplots.AxesSubplot object at 0x7fb633701e10>,\n",
              "        <matplotlib.axes._subplots.AxesSubplot object at 0x7fb6336bb710>,\n",
              "        <matplotlib.axes._subplots.AxesSubplot object at 0x7fb63366aa90>,\n",
              "        <matplotlib.axes._subplots.AxesSubplot object at 0x7fb6336a1dd8>],\n",
              "       [<matplotlib.axes._subplots.AxesSubplot object at 0x7fb6336a1e48>,\n",
              "        <matplotlib.axes._subplots.AxesSubplot object at 0x7fb63360f550>,\n",
              "        <matplotlib.axes._subplots.AxesSubplot object at 0x7fb6335c48d0>,\n",
              "        <matplotlib.axes._subplots.AxesSubplot object at 0x7fb633574c50>],\n",
              "       [<matplotlib.axes._subplots.AxesSubplot object at 0x7fb6335a8fd0>,\n",
              "        <matplotlib.axes._subplots.AxesSubplot object at 0x7fb633566390>,\n",
              "        <matplotlib.axes._subplots.AxesSubplot object at 0x7fb633517710>,\n",
              "        <matplotlib.axes._subplots.AxesSubplot object at 0x7fb6334c8a90>]],\n",
              "      dtype=object)"
            ]
          },
          "metadata": {
            "tags": []
          },
          "execution_count": 30
        },
        {
          "output_type": "display_data",
          "data": {
            "image/png": "[encoded data removed]",
            "text/plain": [
              "<Figure size 864x864 with 16 Axes>"
            ]
          },
          "metadata": {
            "tags": [],
            "needs_background": "light"
          }
        }
      ]
    },
    {
      "cell_type": "markdown",
      "metadata": {
        "id": "obbyPsnkOAr2"
      },
      "source": [
        "We can see that there may be a bit of correlation between our independent variables. Let's look at the correlation coefficients."
      ]
    },
    {
      "cell_type": "code",
      "metadata": {
        "id": "rdeXoMBlcHG5",
        "outputId": "c1703864-d771-40ee-8cab-15ced875c852",
        "colab": {
          "base_uri": "https://localhost:8080/",
          "height": 167
        }
      },
      "source": [
        "x_train.corr()"
      ],
      "execution_count": 31,
      "outputs": [
        {
          "output_type": "execute_result",
          "data": {
            "text/html": [
              "<div>\n",
              "<style scoped>\n",
              "    .dataframe tbody tr th:only-of-type {\n",
              "        vertical-align: middle;\n",
              "    }\n",
              "\n",
              "    .dataframe tbody tr th {\n",
              "        vertical-align: top;\n",
              "    }\n",
              "\n",
              "    .dataframe thead th {\n",
              "        text-align: right;\n",
              "    }\n",
              "</style>\n",
              "<table border=\"1\" class=\"dataframe\">\n",
              "  <thead>\n",
              "    <tr style=\"text-align: right;\">\n",
              "      <th></th>\n",
              "      <th>budget</th>\n",
              "      <th>runtime</th>\n",
              "      <th>vote_average</th>\n",
              "      <th>vote_count</th>\n",
              "    </tr>\n",
              "  </thead>\n",
              "  <tbody>\n",
              "    <tr>\n",
              "      <th>budget</th>\n",
              "      <td>1.000000</td>\n",
              "      <td>0.265104</td>\n",
              "      <td>0.032031</td>\n",
              "      <td>0.626242</td>\n",
              "    </tr>\n",
              "    <tr>\n",
              "      <th>runtime</th>\n",
              "      <td>0.265104</td>\n",
              "      <td>1.000000</td>\n",
              "      <td>0.391242</td>\n",
              "      <td>0.224152</td>\n",
              "    </tr>\n",
              "    <tr>\n",
              "      <th>vote_average</th>\n",
              "      <td>0.032031</td>\n",
              "      <td>0.391242</td>\n",
              "      <td>1.000000</td>\n",
              "      <td>0.379105</td>\n",
              "    </tr>\n",
              "    <tr>\n",
              "      <th>vote_count</th>\n",
              "      <td>0.626242</td>\n",
              "      <td>0.224152</td>\n",
              "      <td>0.379105</td>\n",
              "      <td>1.000000</td>\n",
              "    </tr>\n",
              "  </tbody>\n",
              "</table>\n",
              "</div>"
            ],
            "text/plain": [
              "                budget   runtime  vote_average  vote_count\n",
              "budget        1.000000  0.265104      0.032031    0.626242\n",
              "runtime       0.265104  1.000000      0.391242    0.224152\n",
              "vote_average  0.032031  0.391242      1.000000    0.379105\n",
              "vote_count    0.626242  0.224152      0.379105    1.000000"
            ]
          },
          "metadata": {
            "tags": []
          },
          "execution_count": 31
        }
      ]
    },
    {
      "cell_type": "markdown",
      "metadata": {
        "id": "3KO-HhsfcbAx"
      },
      "source": [
        "While there is a bit more correlation between some independent variables than we would like, we will choose to ignore it for the scope of this project. Therefore, we now have considered all four assumptions and we can move on to getting the data ready for our models!"
      ]
    },
    {
      "cell_type": "markdown",
      "metadata": {
        "id": "Cjalhkzt-QAU"
      },
      "source": [
        "# Feature Engineering"
      ]
    },
    {
      "cell_type": "markdown",
      "metadata": {
        "id": "IN2qS3HUQTAH"
      },
      "source": [
        "We still have categorical features that we need to encode. \n",
        "\n",
        "For language, we will make a binary variable with 1 for english and 0 for non-english. "
      ]
    },
    {
      "cell_type": "code",
      "metadata": {
        "id": "bA27ngi9hgCf"
      },
      "source": [
        "### Encode language \n",
        "\n",
        "x_train['Language'] = x_train['original_language'].apply(lambda x: 1 if 'en' == x else 0)\n",
        "x_test['Language'] = x_test['original_language'].apply(lambda x: 1 if 'en' == x else 0)"
      ],
      "execution_count": 32,
      "outputs": []
    },
    {
      "cell_type": "markdown",
      "metadata": {
        "id": "Y7xaXAJoldOh"
      },
      "source": [
        "For genres, we will choose to one-hot encode them. Normally, we would use a OneHotEncoder class here, however it will not work with the genre objects we have. This is because every genre entry is a dict with all of the genres they contain, so a OneHotEncoder would make a unique column for each combination. We will have to do it manually."
      ]
    },
    {
      "cell_type": "code",
      "metadata": {
        "id": "RD2T_sVKZc1p"
      },
      "source": [
        "genre_list = ['Action', 'Adventure', 'Fantasy', 'Science Fiction', 'Crime', 'Drama', 'Thriller', 'Animation',\n",
        " 'Family', 'Western', 'Comedy', 'Romance', 'Horror', 'Mystery', 'History', 'War', 'Music']"
      ],
      "execution_count": 33,
      "outputs": []
    },
    {
      "cell_type": "code",
      "metadata": {
        "id": "vpr2V_yyfWTM"
      },
      "source": [
        "# make column for each genre and encode it\n",
        "\n",
        "for genre in genre_list:\n",
        "  x_train[genre] = x_train['genres'].apply(lambda x: 1 if genre in x else 0)\n",
        "  x_test[genre] = x_test['genres'].apply(lambda x: 1 if genre in x else 0)"
      ],
      "execution_count": 34,
      "outputs": []
    },
    {
      "cell_type": "code",
      "metadata": {
        "id": "eHXJfP6hgBgv",
        "outputId": "e7d1f2b1-7581-4df2-d8d7-252a928ff41a",
        "colab": {
          "base_uri": "https://localhost:8080/",
          "height": 324
        }
      },
      "source": [
        "x_train.describe()"
      ],
      "execution_count": 35,
      "outputs": [
        {
          "output_type": "execute_result",
          "data": {
            "text/html": [
              "<div>\n",
              "<style scoped>\n",
              "    .dataframe tbody tr th:only-of-type {\n",
              "        vertical-align: middle;\n",
              "    }\n",
              "\n",
              "    .dataframe tbody tr th {\n",
              "        vertical-align: top;\n",
              "    }\n",
              "\n",
              "    .dataframe thead th {\n",
              "        text-align: right;\n",
              "    }\n",
              "</style>\n",
              "<table border=\"1\" class=\"dataframe\">\n",
              "  <thead>\n",
              "    <tr style=\"text-align: right;\">\n",
              "      <th></th>\n",
              "      <th>budget</th>\n",
              "      <th>runtime</th>\n",
              "      <th>vote_average</th>\n",
              "      <th>vote_count</th>\n",
              "      <th>Language</th>\n",
              "      <th>Action</th>\n",
              "      <th>Adventure</th>\n",
              "      <th>Fantasy</th>\n",
              "      <th>Science Fiction</th>\n",
              "      <th>Crime</th>\n",
              "      <th>Drama</th>\n",
              "      <th>Thriller</th>\n",
              "      <th>Animation</th>\n",
              "      <th>Family</th>\n",
              "      <th>Western</th>\n",
              "      <th>Comedy</th>\n",
              "      <th>Romance</th>\n",
              "      <th>Horror</th>\n",
              "      <th>Mystery</th>\n",
              "      <th>History</th>\n",
              "      <th>War</th>\n",
              "      <th>Music</th>\n",
              "    </tr>\n",
              "  </thead>\n",
              "  <tbody>\n",
              "    <tr>\n",
              "      <th>count</th>\n",
              "      <td>3508.000000</td>\n",
              "      <td>3508.000000</td>\n",
              "      <td>3508.000000</td>\n",
              "      <td>3508.000000</td>\n",
              "      <td>3508.000000</td>\n",
              "      <td>3508.000000</td>\n",
              "      <td>3508.000000</td>\n",
              "      <td>3508.000000</td>\n",
              "      <td>3508.000000</td>\n",
              "      <td>3508.000000</td>\n",
              "      <td>3508.000000</td>\n",
              "      <td>3508.000000</td>\n",
              "      <td>3508.000000</td>\n",
              "      <td>3508.000000</td>\n",
              "      <td>3508.000000</td>\n",
              "      <td>3508.000000</td>\n",
              "      <td>3508.000000</td>\n",
              "      <td>3508.000000</td>\n",
              "      <td>3508.000000</td>\n",
              "      <td>3508.000000</td>\n",
              "      <td>3508.000000</td>\n",
              "      <td>3508.000000</td>\n",
              "    </tr>\n",
              "    <tr>\n",
              "      <th>mean</th>\n",
              "      <td>4468.372312</td>\n",
              "      <td>108.669327</td>\n",
              "      <td>6.232326</td>\n",
              "      <td>5.583787</td>\n",
              "      <td>0.942702</td>\n",
              "      <td>0.253421</td>\n",
              "      <td>0.176739</td>\n",
              "      <td>0.096636</td>\n",
              "      <td>0.117161</td>\n",
              "      <td>0.150228</td>\n",
              "      <td>0.471209</td>\n",
              "      <td>0.275371</td>\n",
              "      <td>0.053022</td>\n",
              "      <td>0.109749</td>\n",
              "      <td>0.017104</td>\n",
              "      <td>0.371152</td>\n",
              "      <td>0.187856</td>\n",
              "      <td>0.106899</td>\n",
              "      <td>0.072691</td>\n",
              "      <td>0.039909</td>\n",
              "      <td>0.029361</td>\n",
              "      <td>0.038198</td>\n",
              "    </tr>\n",
              "    <tr>\n",
              "      <th>std</th>\n",
              "      <td>3470.419985</td>\n",
              "      <td>20.591803</td>\n",
              "      <td>0.890211</td>\n",
              "      <td>1.556430</td>\n",
              "      <td>0.232444</td>\n",
              "      <td>0.435032</td>\n",
              "      <td>0.381502</td>\n",
              "      <td>0.295504</td>\n",
              "      <td>0.321658</td>\n",
              "      <td>0.357346</td>\n",
              "      <td>0.499242</td>\n",
              "      <td>0.446765</td>\n",
              "      <td>0.224109</td>\n",
              "      <td>0.312621</td>\n",
              "      <td>0.129677</td>\n",
              "      <td>0.483182</td>\n",
              "      <td>0.390653</td>\n",
              "      <td>0.309028</td>\n",
              "      <td>0.259666</td>\n",
              "      <td>0.195773</td>\n",
              "      <td>0.168842</td>\n",
              "      <td>0.191702</td>\n",
              "    </tr>\n",
              "    <tr>\n",
              "      <th>min</th>\n",
              "      <td>0.000000</td>\n",
              "      <td>25.000000</td>\n",
              "      <td>1.900000</td>\n",
              "      <td>2.302585</td>\n",
              "      <td>0.000000</td>\n",
              "      <td>0.000000</td>\n",
              "      <td>0.000000</td>\n",
              "      <td>0.000000</td>\n",
              "      <td>0.000000</td>\n",
              "      <td>0.000000</td>\n",
              "      <td>0.000000</td>\n",
              "      <td>0.000000</td>\n",
              "      <td>0.000000</td>\n",
              "      <td>0.000000</td>\n",
              "      <td>0.000000</td>\n",
              "      <td>0.000000</td>\n",
              "      <td>0.000000</td>\n",
              "      <td>0.000000</td>\n",
              "      <td>0.000000</td>\n",
              "      <td>0.000000</td>\n",
              "      <td>0.000000</td>\n",
              "      <td>0.000000</td>\n",
              "    </tr>\n",
              "    <tr>\n",
              "      <th>25%</th>\n",
              "      <td>1732.050808</td>\n",
              "      <td>95.000000</td>\n",
              "      <td>5.700000</td>\n",
              "      <td>4.451423</td>\n",
              "      <td>1.000000</td>\n",
              "      <td>0.000000</td>\n",
              "      <td>0.000000</td>\n",
              "      <td>0.000000</td>\n",
              "      <td>0.000000</td>\n",
              "      <td>0.000000</td>\n",
              "      <td>0.000000</td>\n",
              "      <td>0.000000</td>\n",
              "      <td>0.000000</td>\n",
              "      <td>0.000000</td>\n",
              "      <td>0.000000</td>\n",
              "      <td>0.000000</td>\n",
              "      <td>0.000000</td>\n",
              "      <td>0.000000</td>\n",
              "      <td>0.000000</td>\n",
              "      <td>0.000000</td>\n",
              "      <td>0.000000</td>\n",
              "      <td>0.000000</td>\n",
              "    </tr>\n",
              "    <tr>\n",
              "      <th>50%</th>\n",
              "      <td>4242.640687</td>\n",
              "      <td>105.000000</td>\n",
              "      <td>6.300000</td>\n",
              "      <td>5.673323</td>\n",
              "      <td>1.000000</td>\n",
              "      <td>0.000000</td>\n",
              "      <td>0.000000</td>\n",
              "      <td>0.000000</td>\n",
              "      <td>0.000000</td>\n",
              "      <td>0.000000</td>\n",
              "      <td>0.000000</td>\n",
              "      <td>0.000000</td>\n",
              "      <td>0.000000</td>\n",
              "      <td>0.000000</td>\n",
              "      <td>0.000000</td>\n",
              "      <td>0.000000</td>\n",
              "      <td>0.000000</td>\n",
              "      <td>0.000000</td>\n",
              "      <td>0.000000</td>\n",
              "      <td>0.000000</td>\n",
              "      <td>0.000000</td>\n",
              "      <td>0.000000</td>\n",
              "    </tr>\n",
              "    <tr>\n",
              "      <th>75%</th>\n",
              "      <td>6633.249581</td>\n",
              "      <td>119.000000</td>\n",
              "      <td>6.900000</td>\n",
              "      <td>6.717805</td>\n",
              "      <td>1.000000</td>\n",
              "      <td>1.000000</td>\n",
              "      <td>0.000000</td>\n",
              "      <td>0.000000</td>\n",
              "      <td>0.000000</td>\n",
              "      <td>0.000000</td>\n",
              "      <td>1.000000</td>\n",
              "      <td>1.000000</td>\n",
              "      <td>0.000000</td>\n",
              "      <td>0.000000</td>\n",
              "      <td>0.000000</td>\n",
              "      <td>1.000000</td>\n",
              "      <td>0.000000</td>\n",
              "      <td>0.000000</td>\n",
              "      <td>0.000000</td>\n",
              "      <td>0.000000</td>\n",
              "      <td>0.000000</td>\n",
              "      <td>0.000000</td>\n",
              "    </tr>\n",
              "    <tr>\n",
              "      <th>max</th>\n",
              "      <td>19493.588690</td>\n",
              "      <td>276.000000</td>\n",
              "      <td>8.500000</td>\n",
              "      <td>9.528940</td>\n",
              "      <td>1.000000</td>\n",
              "      <td>1.000000</td>\n",
              "      <td>1.000000</td>\n",
              "      <td>1.000000</td>\n",
              "      <td>1.000000</td>\n",
              "      <td>1.000000</td>\n",
              "      <td>1.000000</td>\n",
              "      <td>1.000000</td>\n",
              "      <td>1.000000</td>\n",
              "      <td>1.000000</td>\n",
              "      <td>1.000000</td>\n",
              "      <td>1.000000</td>\n",
              "      <td>1.000000</td>\n",
              "      <td>1.000000</td>\n",
              "      <td>1.000000</td>\n",
              "      <td>1.000000</td>\n",
              "      <td>1.000000</td>\n",
              "      <td>1.000000</td>\n",
              "    </tr>\n",
              "  </tbody>\n",
              "</table>\n",
              "</div>"
            ],
            "text/plain": [
              "             budget      runtime  ...          War        Music\n",
              "count   3508.000000  3508.000000  ...  3508.000000  3508.000000\n",
              "mean    4468.372312   108.669327  ...     0.029361     0.038198\n",
              "std     3470.419985    20.591803  ...     0.168842     0.191702\n",
              "min        0.000000    25.000000  ...     0.000000     0.000000\n",
              "25%     1732.050808    95.000000  ...     0.000000     0.000000\n",
              "50%     4242.640687   105.000000  ...     0.000000     0.000000\n",
              "75%     6633.249581   119.000000  ...     0.000000     0.000000\n",
              "max    19493.588690   276.000000  ...     1.000000     1.000000\n",
              "\n",
              "[8 rows x 22 columns]"
            ]
          },
          "metadata": {
            "tags": []
          },
          "execution_count": 35
        }
      ]
    },
    {
      "cell_type": "code",
      "metadata": {
        "id": "4pW-1bmrcXUd",
        "outputId": "02679dcd-8b1a-4909-80b8-953a5769d594",
        "colab": {
          "base_uri": "https://localhost:8080/",
          "height": 443
        }
      },
      "source": [
        "corr_matrix = pd.concat([x_train,y_train],axis=1).corr()\n",
        "\n",
        "corr_matrix['popularity'].sort_values(ascending=False)"
      ],
      "execution_count": 36,
      "outputs": [
        {
          "output_type": "execute_result",
          "data": {
            "text/plain": [
              "popularity         1.000000\n",
              "vote_count         0.916700\n",
              "budget             0.585248\n",
              "vote_average       0.331258\n",
              "Adventure          0.225227\n",
              "runtime            0.208239\n",
              "Action             0.170542\n",
              "Fantasy            0.169853\n",
              "Animation          0.139544\n",
              "Science Fiction    0.130620\n",
              "Language           0.121879\n",
              "Thriller           0.102094\n",
              "Family             0.094241\n",
              "Crime              0.064300\n",
              "Mystery            0.054000\n",
              "War                0.017547\n",
              "Western            0.003349\n",
              "Horror            -0.019689\n",
              "History           -0.026097\n",
              "Music             -0.066077\n",
              "Comedy            -0.105179\n",
              "Romance           -0.109036\n",
              "Drama             -0.137730\n",
              "Name: popularity, dtype: float64"
            ]
          },
          "metadata": {
            "tags": []
          },
          "execution_count": 36
        }
      ]
    },
    {
      "cell_type": "markdown",
      "metadata": {
        "id": "reZGcATUkK2C"
      },
      "source": [
        "These results are interesting in themselves! It looks like the adventure and action genres correlate most positively to popularity, and comedy, romance, and drama correlate most negatively. There are a few genres that do not seem to correlate at all, but we will choose to keep them as features.\n",
        "\n",
        "We also have to remember to drop our original categorical columns! "
      ]
    },
    {
      "cell_type": "code",
      "metadata": {
        "id": "M6V_hmnSiqpw"
      },
      "source": [
        "x_train = x_train.drop(columns=['original_language','genres']) # drop encoded columns\n",
        "x_test = x_test.drop(columns=['original_language','genres']) # drop encoded columns"
      ],
      "execution_count": 37,
      "outputs": []
    },
    {
      "cell_type": "markdown",
      "metadata": {
        "id": "2LjZ-8N-hr_u"
      },
      "source": [
        "Now let's scale our features. Machine Learning models tend to perform better when scaled."
      ]
    },
    {
      "cell_type": "code",
      "metadata": {
        "id": "EpQBUqLHkz6p"
      },
      "source": [
        "from sklearn.preprocessing import StandardScaler, MinMaxScaler\n",
        "\n",
        "scaler = MinMaxScaler()\n",
        "\n",
        "x_train_scaled = pd.DataFrame(scaler.fit_transform(x_train),index=x_train.index, columns=x_train.columns)\n",
        "x_test_scaled = pd.DataFrame(scaler.transform(x_test),index=x_test.index, columns=x_test.columns)"
      ],
      "execution_count": 38,
      "outputs": []
    },
    {
      "cell_type": "code",
      "metadata": {
        "id": "m6mYPaxeuTqX",
        "outputId": "05a4d5ab-5a0f-43e0-c277-469058e0f128",
        "colab": {
          "base_uri": "https://localhost:8080/",
          "height": 234
        }
      },
      "source": [
        "# Verify\n",
        "\n",
        "x_train_scaled.head()"
      ],
      "execution_count": 39,
      "outputs": [
        {
          "output_type": "execute_result",
          "data": {
            "text/html": [
              "<div>\n",
              "<style scoped>\n",
              "    .dataframe tbody tr th:only-of-type {\n",
              "        vertical-align: middle;\n",
              "    }\n",
              "\n",
              "    .dataframe tbody tr th {\n",
              "        vertical-align: top;\n",
              "    }\n",
              "\n",
              "    .dataframe thead th {\n",
              "        text-align: right;\n",
              "    }\n",
              "</style>\n",
              "<table border=\"1\" class=\"dataframe\">\n",
              "  <thead>\n",
              "    <tr style=\"text-align: right;\">\n",
              "      <th></th>\n",
              "      <th>budget</th>\n",
              "      <th>runtime</th>\n",
              "      <th>vote_average</th>\n",
              "      <th>vote_count</th>\n",
              "      <th>Language</th>\n",
              "      <th>Action</th>\n",
              "      <th>Adventure</th>\n",
              "      <th>Fantasy</th>\n",
              "      <th>Science Fiction</th>\n",
              "      <th>Crime</th>\n",
              "      <th>Drama</th>\n",
              "      <th>Thriller</th>\n",
              "      <th>Animation</th>\n",
              "      <th>Family</th>\n",
              "      <th>Western</th>\n",
              "      <th>Comedy</th>\n",
              "      <th>Romance</th>\n",
              "      <th>Horror</th>\n",
              "      <th>Mystery</th>\n",
              "      <th>History</th>\n",
              "      <th>War</th>\n",
              "      <th>Music</th>\n",
              "    </tr>\n",
              "  </thead>\n",
              "  <tbody>\n",
              "    <tr>\n",
              "      <th>1057</th>\n",
              "      <td>0.280976</td>\n",
              "      <td>0.442231</td>\n",
              "      <td>0.818182</td>\n",
              "      <td>0.540243</td>\n",
              "      <td>1.0</td>\n",
              "      <td>0.0</td>\n",
              "      <td>0.0</td>\n",
              "      <td>0.0</td>\n",
              "      <td>0.0</td>\n",
              "      <td>0.0</td>\n",
              "      <td>1.0</td>\n",
              "      <td>0.0</td>\n",
              "      <td>0.0</td>\n",
              "      <td>0.0</td>\n",
              "      <td>0.0</td>\n",
              "      <td>0.0</td>\n",
              "      <td>0.0</td>\n",
              "      <td>0.0</td>\n",
              "      <td>0.0</td>\n",
              "      <td>0.0</td>\n",
              "      <td>0.0</td>\n",
              "      <td>0.0</td>\n",
              "    </tr>\n",
              "    <tr>\n",
              "      <th>1385</th>\n",
              "      <td>0.303488</td>\n",
              "      <td>0.262948</td>\n",
              "      <td>0.560606</td>\n",
              "      <td>0.689833</td>\n",
              "      <td>1.0</td>\n",
              "      <td>0.0</td>\n",
              "      <td>0.0</td>\n",
              "      <td>0.0</td>\n",
              "      <td>0.0</td>\n",
              "      <td>0.0</td>\n",
              "      <td>0.0</td>\n",
              "      <td>0.0</td>\n",
              "      <td>0.0</td>\n",
              "      <td>0.0</td>\n",
              "      <td>0.0</td>\n",
              "      <td>1.0</td>\n",
              "      <td>0.0</td>\n",
              "      <td>0.0</td>\n",
              "      <td>0.0</td>\n",
              "      <td>0.0</td>\n",
              "      <td>0.0</td>\n",
              "      <td>0.0</td>\n",
              "    </tr>\n",
              "    <tr>\n",
              "      <th>887</th>\n",
              "      <td>0.369922</td>\n",
              "      <td>0.398406</td>\n",
              "      <td>0.575758</td>\n",
              "      <td>0.639062</td>\n",
              "      <td>1.0</td>\n",
              "      <td>0.0</td>\n",
              "      <td>0.0</td>\n",
              "      <td>0.0</td>\n",
              "      <td>0.0</td>\n",
              "      <td>0.0</td>\n",
              "      <td>0.0</td>\n",
              "      <td>0.0</td>\n",
              "      <td>0.0</td>\n",
              "      <td>0.0</td>\n",
              "      <td>0.0</td>\n",
              "      <td>1.0</td>\n",
              "      <td>1.0</td>\n",
              "      <td>0.0</td>\n",
              "      <td>0.0</td>\n",
              "      <td>0.0</td>\n",
              "      <td>0.0</td>\n",
              "      <td>0.0</td>\n",
              "    </tr>\n",
              "    <tr>\n",
              "      <th>585</th>\n",
              "      <td>0.416754</td>\n",
              "      <td>0.482072</td>\n",
              "      <td>0.772727</td>\n",
              "      <td>0.636163</td>\n",
              "      <td>1.0</td>\n",
              "      <td>0.0</td>\n",
              "      <td>0.0</td>\n",
              "      <td>0.0</td>\n",
              "      <td>0.0</td>\n",
              "      <td>0.0</td>\n",
              "      <td>1.0</td>\n",
              "      <td>0.0</td>\n",
              "      <td>0.0</td>\n",
              "      <td>0.0</td>\n",
              "      <td>0.0</td>\n",
              "      <td>0.0</td>\n",
              "      <td>0.0</td>\n",
              "      <td>0.0</td>\n",
              "      <td>0.0</td>\n",
              "      <td>0.0</td>\n",
              "      <td>1.0</td>\n",
              "      <td>0.0</td>\n",
              "    </tr>\n",
              "    <tr>\n",
              "      <th>2167</th>\n",
              "      <td>0.229416</td>\n",
              "      <td>0.282869</td>\n",
              "      <td>0.787879</td>\n",
              "      <td>0.745183</td>\n",
              "      <td>1.0</td>\n",
              "      <td>0.0</td>\n",
              "      <td>1.0</td>\n",
              "      <td>0.0</td>\n",
              "      <td>0.0</td>\n",
              "      <td>1.0</td>\n",
              "      <td>0.0</td>\n",
              "      <td>0.0</td>\n",
              "      <td>0.0</td>\n",
              "      <td>0.0</td>\n",
              "      <td>0.0</td>\n",
              "      <td>0.0</td>\n",
              "      <td>0.0</td>\n",
              "      <td>0.0</td>\n",
              "      <td>1.0</td>\n",
              "      <td>0.0</td>\n",
              "      <td>0.0</td>\n",
              "      <td>0.0</td>\n",
              "    </tr>\n",
              "  </tbody>\n",
              "</table>\n",
              "</div>"
            ],
            "text/plain": [
              "        budget   runtime  vote_average  ...  History  War  Music\n",
              "1057  0.280976  0.442231      0.818182  ...      0.0  0.0    0.0\n",
              "1385  0.303488  0.262948      0.560606  ...      0.0  0.0    0.0\n",
              "887   0.369922  0.398406      0.575758  ...      0.0  0.0    0.0\n",
              "585   0.416754  0.482072      0.772727  ...      0.0  1.0    0.0\n",
              "2167  0.229416  0.282869      0.787879  ...      0.0  0.0    0.0\n",
              "\n",
              "[5 rows x 22 columns]"
            ]
          },
          "metadata": {
            "tags": []
          },
          "execution_count": 39
        }
      ]
    },
    {
      "cell_type": "markdown",
      "metadata": {
        "id": "Z81vBghG1ZUm"
      },
      "source": [
        "Perfect! Now we are finally ready to train some models!"
      ]
    },
    {
      "cell_type": "markdown",
      "metadata": {
        "id": "HILlZ5zX-WMH"
      },
      "source": [
        "# Model Selection"
      ]
    },
    {
      "cell_type": "markdown",
      "metadata": {
        "id": "fr6uAYwZ0eMI"
      },
      "source": [
        "With the data all ready to go, it is finally time to train some models! Let's define a few lists to score our metrics, and a function to print them. The cross_val_score will use cross validation to score the model predictions on all parts of our training data. The main metric we will be looking at is Root Mean Squared Error. This is a common metrics for regression tasks. "
      ]
    },
    {
      "cell_type": "code",
      "metadata": {
        "id": "D_vNgbz20fDS"
      },
      "source": [
        "from sklearn.model_selection import cross_val_score\n",
        "\n",
        "rmse_list = []\n",
        "std_list = []\n",
        "\n",
        "def get_score(model):\n",
        "  cv_score = cross_val_score(model, x_train_scaled, y_train, scoring = \"neg_mean_squared_error\", cv = 8)\n",
        "  rmse = np.sqrt(-cv_score)\n",
        "  print('Cross-Validation Root Mean Squared Error:', rmse)\n",
        "  print('Average Root Mean Squared Error:', round(np.mean(rmse), 5))\n",
        "  rmse_list.append(round(np.mean(rmse), 5))\n",
        "  print('Standard deviation:', round(rmse.std(), 5))\n",
        "  std_list.append(round(rmse.std(), 5))"
      ],
      "execution_count": 40,
      "outputs": []
    },
    {
      "cell_type": "markdown",
      "metadata": {
        "id": "OK8qUT7_0Mhs"
      },
      "source": [
        "## Regression"
      ]
    },
    {
      "cell_type": "markdown",
      "metadata": {
        "id": "jl1XImB16PHv"
      },
      "source": [
        "We will begin with the classic linear regression models. Once again, the results and validity of these depend on the four assumptions that we already discussed. \n",
        "\n"
      ]
    },
    {
      "cell_type": "code",
      "metadata": {
        "id": "2zoQ_1L24Diy"
      },
      "source": [
        "from sklearn.linear_model import LinearRegression, Ridge, Lasso"
      ],
      "execution_count": 41,
      "outputs": []
    },
    {
      "cell_type": "code",
      "metadata": {
        "id": "ixbANZQ9wVa9",
        "outputId": "39381571-eaa2-499c-993b-608cb5df3a78",
        "colab": {
          "base_uri": "https://localhost:8080/",
          "height": 0
        }
      },
      "source": [
        "### Linear Regression\n",
        "\n",
        "model_1 = LinearRegression()\n",
        "\n",
        "model_1.fit(x_train_scaled,y_train)\n",
        "\n",
        "get_score(model_1)"
      ],
      "execution_count": 42,
      "outputs": [
        {
          "output_type": "stream",
          "text": [
            "Cross-Validation Root Mean Squared Error: [0.46790618 0.47929483 0.40475996 0.52752017 0.43998442 0.46671215\n",
            " 0.49695483 0.40076656]\n",
            "Average Root Mean Squared Error: 0.46049\n",
            "Standard deviation: 0.04087\n"
          ],
          "name": "stdout"
        }
      ]
    },
    {
      "cell_type": "markdown",
      "metadata": {
        "id": "pM4qC_MMIeAD"
      },
      "source": [
        "Ridge regression adds a regularization term to the cost function which helps prevent overfitting. The term added is the sum of the square of the coefficients."
      ]
    },
    {
      "cell_type": "code",
      "metadata": {
        "id": "CfJ048tR2Jrm",
        "outputId": "6edef19d-9c79-4757-a254-a2320be3d121",
        "colab": {
          "base_uri": "https://localhost:8080/",
          "height": 0
        }
      },
      "source": [
        "### Ridge Regression\n",
        "\n",
        "model_2 = Ridge(random_state=SEED)\n",
        "\n",
        "model_2.fit(x_train_scaled,y_train)\n",
        "\n",
        "get_score(model_2)"
      ],
      "execution_count": 43,
      "outputs": [
        {
          "output_type": "stream",
          "text": [
            "Cross-Validation Root Mean Squared Error: [0.46839053 0.47980163 0.40495568 0.52782219 0.43947397 0.46715904\n",
            " 0.49719715 0.39997857]\n",
            "Average Root Mean Squared Error: 0.4606\n",
            "Standard deviation: 0.04115\n"
          ],
          "name": "stdout"
        }
      ]
    },
    {
      "cell_type": "markdown",
      "metadata": {
        "id": "z4fA9l5fI8dh"
      },
      "source": [
        "Lasso regression also adds a regularization term to the cost function, but this time it is the sum of the magnitudes of the coefficients."
      ]
    },
    {
      "cell_type": "code",
      "metadata": {
        "id": "40LruSWF2SC9",
        "outputId": "8ef912c8-4c0b-4f87-e8b6-e3e3fd2df56a",
        "colab": {
          "base_uri": "https://localhost:8080/",
          "height": 0
        }
      },
      "source": [
        "### Lasso Regression\n",
        "\n",
        "model_3 = Lasso(random_state=SEED)\n",
        "\n",
        "model_3.fit(x_train_scaled,y_train)\n",
        "\n",
        "get_score(model_3)"
      ],
      "execution_count": 44,
      "outputs": [
        {
          "output_type": "stream",
          "text": [
            "Cross-Validation Root Mean Squared Error: [1.12133568 1.1305347  1.19897781 1.22260575 1.11519697 1.222047\n",
            " 1.18672387 1.07410068]\n",
            "Average Root Mean Squared Error: 1.15894\n",
            "Standard deviation: 0.05213\n"
          ],
          "name": "stdout"
        }
      ]
    },
    {
      "cell_type": "markdown",
      "metadata": {
        "id": "9BvPOIoL0RYe"
      },
      "source": [
        "## Random Forest"
      ]
    },
    {
      "cell_type": "markdown",
      "metadata": {
        "id": "XkN5cigi6Nx4"
      },
      "source": [
        "Random Forest is a simple yet powerful machine learning model. It uses many decision trees to make it's final decision. "
      ]
    },
    {
      "cell_type": "code",
      "metadata": {
        "id": "iNUvC3rk0T3e"
      },
      "source": [
        "from sklearn.ensemble import RandomForestRegressor"
      ],
      "execution_count": 45,
      "outputs": []
    },
    {
      "cell_type": "code",
      "metadata": {
        "id": "EcNc4N-80XxQ",
        "outputId": "9f49b58c-3e30-489f-ccd8-cb3034496052",
        "colab": {
          "base_uri": "https://localhost:8080/",
          "height": 0
        }
      },
      "source": [
        "model_4 = RandomForestRegressor(random_state=SEED)\n",
        "\n",
        "model_4.fit(x_train_scaled,y_train)\n",
        "\n",
        "get_score(model_4)"
      ],
      "execution_count": 46,
      "outputs": [
        {
          "output_type": "stream",
          "text": [
            "Cross-Validation Root Mean Squared Error: [0.50136732 0.53030541 0.42257631 0.53852953 0.49220586 0.47617066\n",
            " 0.51228452 0.42431413]\n",
            "Average Root Mean Squared Error: 0.48722\n",
            "Standard deviation: 0.04123\n"
          ],
          "name": "stdout"
        }
      ]
    },
    {
      "cell_type": "markdown",
      "metadata": {
        "id": "1kGuEisT1Rr7"
      },
      "source": [
        "## Support Vector Regressor"
      ]
    },
    {
      "cell_type": "markdown",
      "metadata": {
        "id": "oJ23EXdg6JNo"
      },
      "source": [
        "Support Vector Machines are typically used for classification tasks, but they can be used for regression as well."
      ]
    },
    {
      "cell_type": "code",
      "metadata": {
        "id": "ZPIULViL2riH"
      },
      "source": [
        "from sklearn.svm import SVR"
      ],
      "execution_count": 47,
      "outputs": []
    },
    {
      "cell_type": "code",
      "metadata": {
        "id": "5QTNVLM_2pI5",
        "outputId": "7a4e7877-463f-481c-f157-de75751b0f4e",
        "colab": {
          "base_uri": "https://localhost:8080/",
          "height": 0
        }
      },
      "source": [
        "model_5 = SVR()\n",
        "\n",
        "model_5.fit(x_train_scaled,y_train)\n",
        "\n",
        "get_score(model_5)"
      ],
      "execution_count": 48,
      "outputs": [
        {
          "output_type": "stream",
          "text": [
            "Cross-Validation Root Mean Squared Error: [0.47328369 0.49078863 0.42661852 0.51307526 0.44749369 0.48420984\n",
            " 0.51831062 0.40679701]\n",
            "Average Root Mean Squared Error: 0.47007\n",
            "Standard deviation: 0.03745\n"
          ],
          "name": "stdout"
        }
      ]
    },
    {
      "cell_type": "markdown",
      "metadata": {
        "id": "H7e7wL_Y1UiR"
      },
      "source": [
        "## XGBoost"
      ]
    },
    {
      "cell_type": "markdown",
      "metadata": {
        "id": "KOJwS1uy6H_7"
      },
      "source": [
        "XGBoost uses gradient boosted trees to make it's decision. They often outperform most models when the hyperparameters are tuned correctly."
      ]
    },
    {
      "cell_type": "code",
      "metadata": {
        "id": "aGNlDGcu28B8"
      },
      "source": [
        "from xgboost import XGBRegressor"
      ],
      "execution_count": 49,
      "outputs": []
    },
    {
      "cell_type": "code",
      "metadata": {
        "id": "AfA-J2Vm2_6a",
        "outputId": "aba16340-f014-428f-b61b-b27a1cb3efce",
        "colab": {
          "base_uri": "https://localhost:8080/",
          "height": 0
        }
      },
      "source": [
        "model_6 = XGBRegressor(random_state=SEED,verbose=0,objective='reg:squarederror')\n",
        "\n",
        "model_6.fit(x_train_scaled,y_train)\n",
        "\n",
        "get_score(model_6)"
      ],
      "execution_count": 50,
      "outputs": [
        {
          "output_type": "stream",
          "text": [
            "Cross-Validation Root Mean Squared Error: [0.46343496 0.48944193 0.4103061  0.52311562 0.44710536 0.47135289\n",
            " 0.502381   0.40480992]\n",
            "Average Root Mean Squared Error: 0.46399\n",
            "Standard deviation: 0.03928\n"
          ],
          "name": "stdout"
        }
      ]
    },
    {
      "cell_type": "markdown",
      "metadata": {
        "id": "MgnjXp5yz2xD"
      },
      "source": [
        "## Neural Network"
      ]
    },
    {
      "cell_type": "markdown",
      "metadata": {
        "id": "WoM0HzSh6K7y"
      },
      "source": [
        "Neural Networks have been around for a while, but have recently taken over all areas of machine learning with architecture advancements and better processing units.  "
      ]
    },
    {
      "cell_type": "code",
      "metadata": {
        "id": "FhdfNKKA9MeV"
      },
      "source": [
        "import tensorflow as tf\n",
        "import tensorflow.keras.layers as L\n",
        "from keras.wrappers.scikit_learn import KerasRegressor"
      ],
      "execution_count": 51,
      "outputs": []
    },
    {
      "cell_type": "markdown",
      "metadata": {
        "id": "GfF97q9mItma"
      },
      "source": [
        "I played with the architecture a bit (number of layers, dropout, neurons per layer, etc.) and this seemed to yield the best results."
      ]
    },
    {
      "cell_type": "code",
      "metadata": {
        "id": "xaTfRHss9aDp"
      },
      "source": [
        "def get_tf_model():\n",
        "    model = tf.keras.Sequential([\n",
        "        L.Input(shape=(x_train_scaled.shape[1])),\n",
        "        L.Dense(250, activation='relu'),\n",
        "        L.BatchNormalization(),\n",
        "        L.Dense(200, activation='relu'),\n",
        "        L.BatchNormalization(),\n",
        "        L.Dense(200, activation='relu'),\n",
        "        L.BatchNormalization(),\n",
        "        L.Dense(1)\n",
        "    ])\n",
        "\n",
        "    model.compile(\n",
        "        optimizer='adam',\n",
        "        loss = 'mse',\n",
        "        metrics=['accuracy','mse']\n",
        "    )\n",
        "    \n",
        "    return model"
      ],
      "execution_count": 52,
      "outputs": []
    },
    {
      "cell_type": "code",
      "metadata": {
        "id": "BwzyLRVK7EIJ",
        "outputId": "13c20d2c-add4-4aa3-c01a-3f61ad075ffc",
        "colab": {
          "base_uri": "https://localhost:8080/",
          "height": 0
        }
      },
      "source": [
        "get_tf_model().summary()"
      ],
      "execution_count": 53,
      "outputs": [
        {
          "output_type": "stream",
          "text": [
            "Model: \"sequential\"\n",
            "_________________________________________________________________\n",
            "Layer (type)                 Output Shape              Param #   \n",
            "=================================================================\n",
            "dense (Dense)                (None, 250)               5750      \n",
            "_________________________________________________________________\n",
            "batch_normalization (BatchNo (None, 250)               1000      \n",
            "_________________________________________________________________\n",
            "dense_1 (Dense)              (None, 200)               50200     \n",
            "_________________________________________________________________\n",
            "batch_normalization_1 (Batch (None, 200)               800       \n",
            "_________________________________________________________________\n",
            "dense_2 (Dense)              (None, 200)               40200     \n",
            "_________________________________________________________________\n",
            "batch_normalization_2 (Batch (None, 200)               800       \n",
            "_________________________________________________________________\n",
            "dense_3 (Dense)              (None, 1)                 201       \n",
            "=================================================================\n",
            "Total params: 98,951\n",
            "Trainable params: 97,651\n",
            "Non-trainable params: 1,300\n",
            "_________________________________________________________________\n"
          ],
          "name": "stdout"
        }
      ]
    },
    {
      "cell_type": "code",
      "metadata": {
        "id": "vR2Rp4xG-FE3",
        "outputId": "23df8235-9166-47f3-c3d4-455d2e78bae8",
        "colab": {
          "base_uri": "https://localhost:8080/",
          "height": 0
        }
      },
      "source": [
        "model_7 = KerasRegressor(build_fn = get_tf_model, epochs = 10, verbose = 0, batch_size = 100)\n",
        "model_7.fit(x_train_scaled,y_train.values)"
      ],
      "execution_count": 54,
      "outputs": [
        {
          "output_type": "execute_result",
          "data": {
            "text/plain": [
              "<tensorflow.python.keras.callbacks.History at 0x7fb5ee7dab00>"
            ]
          },
          "metadata": {
            "tags": []
          },
          "execution_count": 54
        }
      ]
    },
    {
      "cell_type": "code",
      "metadata": {
        "id": "5v4kVxxwxcbR",
        "outputId": "4356d71f-a53a-4070-d5d7-329237fbb8db",
        "colab": {
          "base_uri": "https://localhost:8080/",
          "height": 0
        }
      },
      "source": [
        "get_score(model_7)"
      ],
      "execution_count": 55,
      "outputs": [
        {
          "output_type": "stream",
          "text": [
            "Cross-Validation Root Mean Squared Error: [0.79844354 0.888583   0.80128776 0.83190402 0.80663235 0.87838409\n",
            " 0.77658028 0.64460417]\n",
            "Average Root Mean Squared Error: 0.8033\n",
            "Standard deviation: 0.07041\n"
          ],
          "name": "stdout"
        }
      ]
    },
    {
      "cell_type": "markdown",
      "metadata": {
        "id": "yptXSd2x8SRi"
      },
      "source": [
        "## Cross-Validation Scores"
      ]
    },
    {
      "cell_type": "markdown",
      "metadata": {
        "id": "6grlDHuPOscN"
      },
      "source": [
        "Let's see how the models compare"
      ]
    },
    {
      "cell_type": "code",
      "metadata": {
        "id": "XLqgJRQvMgpP",
        "outputId": "e636dd8d-a543-45e1-a983-12781ff9dd4a",
        "colab": {
          "base_uri": "https://localhost:8080/",
          "height": 725
        }
      },
      "source": [
        "\n",
        "### To use Plotly inline\n",
        "!pip3 install chart_studio\n",
        "\n",
        "import chart_studio\n",
        "\n",
        "chart_studio.tools.set_credentials_file(username='huntermitchell', api_key='RdtwCaEaUZCdtemD0eD4')\n",
        "\n",
        "import chart_studio.plotly as py\n",
        "import plotly.graph_objects as go\n",
        "\n",
        "models_list = ['Linear Regression','Ridge Regression','Lasso Regression','Random Forest', \n",
        "               'Support Vector Regressor','XGBoost', 'Neural Network']\n",
        "\n",
        "fig = go.Figure(data=[go.Table(header=dict(values=['Model', 'RMSE', 'Standard Deviation']),\n",
        "                 cells=dict(values=[models_list, rmse_list, std_list]))\n",
        "                     ])\n",
        "\n",
        "fig.update_layout(\n",
        "    title={\n",
        "        'text': \"Starting Model Cross Validation Scores\",\n",
        "        'y':0.9,\n",
        "        'x':0.5,\n",
        "        'xanchor': 'center',\n",
        "        'yanchor': 'top'})\n",
        "\n",
        "py.iplot(fig)"
      ],
      "execution_count": 174,
      "outputs": [
        {
          "output_type": "stream",
          "text": [
            "Requirement already satisfied: chart_studio in /usr/local/lib/python3.6/dist-packages (1.1.0)\n",
            "Requirement already satisfied: plotly in /usr/local/lib/python3.6/dist-packages (from chart_studio) (4.4.1)\n",
            "Requirement already satisfied: retrying>=1.3.3 in /usr/local/lib/python3.6/dist-packages (from chart_studio) (1.3.3)\n",
            "Requirement already satisfied: six in /usr/local/lib/python3.6/dist-packages (from chart_studio) (1.15.0)\n",
            "Requirement already satisfied: requests in /usr/local/lib/python3.6/dist-packages (from chart_studio) (2.23.0)\n",
            "Requirement already satisfied: urllib3!=1.25.0,!=1.25.1,<1.26,>=1.21.1 in /usr/local/lib/python3.6/dist-packages (from requests->chart_studio) (1.24.3)\n",
            "Requirement already satisfied: chardet<4,>=3.0.2 in /usr/local/lib/python3.6/dist-packages (from requests->chart_studio) (3.0.4)\n",
            "Requirement already satisfied: idna<3,>=2.5 in /usr/local/lib/python3.6/dist-packages (from requests->chart_studio) (2.10)\n",
            "Requirement already satisfied: certifi>=2017.4.17 in /usr/local/lib/python3.6/dist-packages (from requests->chart_studio) (2020.6.20)\n"
          ],
          "name": "stdout"
        },
        {
          "output_type": "execute_result",
          "data": {
            "text/html": [
              "\n",
              "        <iframe\n",
              "            width=\"100%\"\n",
              "            height=\"525px\"\n",
              "            src=\"https://plotly.com/~huntermitchell/3.embed\"\n",
              "            frameborder=\"0\"\n",
              "            allowfullscreen\n",
              "        ></iframe>\n",
              "        "
            ],
            "text/plain": [
              "<IPython.lib.display.IFrame at 0x7fb5e98a40b8>"
            ]
          },
          "metadata": {
            "tags": []
          },
          "execution_count": 174
        }
      ]
    },
    {
      "cell_type": "markdown",
      "metadata": {
        "id": "vviYhp4dKMtw"
      },
      "source": [
        "Regular Linear Regression and Ridge Regression perform the best. Lasso Regression definitely performs worse - probably because the hyperparameters aren't tuned. XGBoost, Random Forest, and Support Vector Regressor also perform well. Neural Networks kind of let us down, but if we played with the structure more, I'm sure we could make it better."
      ]
    },
    {
      "cell_type": "markdown",
      "metadata": {
        "id": "aa8ObjJo-87k"
      },
      "source": [
        "# Hyperparameter Tuning"
      ]
    },
    {
      "cell_type": "markdown",
      "metadata": {
        "id": "tX8XJITx5N99"
      },
      "source": [
        "Let's try to improve some of these scores. Kaggle competitors may spend days or even weeks figuring out the best hyperparameters for their models as well as which models to ensemble. \n",
        "\n",
        "\n",
        "We will just pick a few to improve by using grid search. Grid search reveals which hyperparameter combinations provide the best results by trying many different combinations from what you give it."
      ]
    },
    {
      "cell_type": "code",
      "metadata": {
        "id": "v5h0PPbl_Vov"
      },
      "source": [
        "from sklearn.model_selection import GridSearchCV\n",
        "\n",
        "# Enter model and parameter options and returns best model\n",
        "def grid_search(model,params):\n",
        "  search = GridSearchCV(model, params, cv=5, scoring='neg_mean_squared_error')\n",
        "  search.fit(x_train_scaled,y_train)\n",
        "  return search.best_estimator_"
      ],
      "execution_count": 57,
      "outputs": []
    },
    {
      "cell_type": "markdown",
      "metadata": {
        "id": "vpQs_MsbEZ6E"
      },
      "source": [
        "### Lasso"
      ]
    },
    {
      "cell_type": "markdown",
      "metadata": {
        "id": "miN2biWGQOrN"
      },
      "source": [
        "Lasso performed the worst, so let's try to improve it by first looking at what parameters there are."
      ]
    },
    {
      "cell_type": "code",
      "metadata": {
        "id": "nYV5DFyGFA6A",
        "outputId": "c4e05258-8aa5-4160-ac14-9f840bd297ff",
        "colab": {
          "base_uri": "https://localhost:8080/",
          "height": 0
        }
      },
      "source": [
        "model_3.get_params()"
      ],
      "execution_count": 58,
      "outputs": [
        {
          "output_type": "execute_result",
          "data": {
            "text/plain": [
              "{'alpha': 1.0,\n",
              " 'copy_X': True,\n",
              " 'fit_intercept': True,\n",
              " 'max_iter': 1000,\n",
              " 'normalize': False,\n",
              " 'positive': False,\n",
              " 'precompute': False,\n",
              " 'random_state': 2020,\n",
              " 'selection': 'cyclic',\n",
              " 'tol': 0.0001,\n",
              " 'warm_start': False}"
            ]
          },
          "metadata": {
            "tags": []
          },
          "execution_count": 58
        }
      ]
    },
    {
      "cell_type": "markdown",
      "metadata": {
        "id": "QzuDThCGQXs_"
      },
      "source": [
        "We'll pick some options, and apply gird search"
      ]
    },
    {
      "cell_type": "code",
      "metadata": {
        "id": "6fUeZ4dyFjqh",
        "outputId": "d45b7579-9010-45de-b2ce-dbc365f8e65c",
        "colab": {
          "base_uri": "https://localhost:8080/",
          "height": 0
        }
      },
      "source": [
        "param_grid = [\n",
        "              {'alpha': [0.1,0.05,0.01,0.005] , \n",
        "               \"fit_intercept\": [True, False], \n",
        "               'normalize': [True, False],\n",
        "               \"tol\": [0.0005,.0001,0.00005]}\n",
        "]\n",
        "\n",
        "model_3_grid = grid_search(model_3,param_grid)\n",
        "\n",
        "model_3_grid.get_params() # these will be our new parameters"
      ],
      "execution_count": 59,
      "outputs": [
        {
          "output_type": "execute_result",
          "data": {
            "text/plain": [
              "{'alpha': 0.005,\n",
              " 'copy_X': True,\n",
              " 'fit_intercept': True,\n",
              " 'max_iter': 1000,\n",
              " 'normalize': False,\n",
              " 'positive': False,\n",
              " 'precompute': False,\n",
              " 'random_state': 2020,\n",
              " 'selection': 'cyclic',\n",
              " 'tol': 0.0005,\n",
              " 'warm_start': False}"
            ]
          },
          "metadata": {
            "tags": []
          },
          "execution_count": 59
        }
      ]
    },
    {
      "cell_type": "code",
      "metadata": {
        "id": "xdKqv5R8F8Aj",
        "outputId": "4357e090-cd4b-4c9e-a8c3-8fa8b5558c57",
        "colab": {
          "base_uri": "https://localhost:8080/",
          "height": 0
        }
      },
      "source": [
        "get_score(model_3_grid)"
      ],
      "execution_count": 60,
      "outputs": [
        {
          "output_type": "stream",
          "text": [
            "Cross-Validation Root Mean Squared Error: [0.47050766 0.48125268 0.4045811  0.5291237  0.44392033 0.47066828\n",
            " 0.49413479 0.40033284]\n",
            "Average Root Mean Squared Error: 0.46182\n",
            "Standard deviation: 0.04105\n"
          ],
          "name": "stdout"
        }
      ]
    },
    {
      "cell_type": "markdown",
      "metadata": {
        "id": "Jq3K_08UQntu"
      },
      "source": [
        "Wow! Just like that our RMSE improved a lot!"
      ]
    },
    {
      "cell_type": "markdown",
      "metadata": {
        "id": "FIGc9pZCDsMF"
      },
      "source": [
        "### Support Vector Regressor"
      ]
    },
    {
      "cell_type": "markdown",
      "metadata": {
        "id": "9nFi9nRzQzik"
      },
      "source": [
        "Now let's try it for Support Vector Regressor"
      ]
    },
    {
      "cell_type": "code",
      "metadata": {
        "id": "g0CHKiwLGWmp",
        "outputId": "a6a5c464-8c67-4611-bd75-53deb44e104d",
        "colab": {
          "base_uri": "https://localhost:8080/",
          "height": 0
        }
      },
      "source": [
        "# Support Vector Regression\n",
        "\n",
        "model_5.get_params()"
      ],
      "execution_count": 61,
      "outputs": [
        {
          "output_type": "execute_result",
          "data": {
            "text/plain": [
              "{'C': 1.0,\n",
              " 'cache_size': 200,\n",
              " 'coef0': 0.0,\n",
              " 'degree': 3,\n",
              " 'epsilon': 0.1,\n",
              " 'gamma': 'scale',\n",
              " 'kernel': 'rbf',\n",
              " 'max_iter': -1,\n",
              " 'shrinking': True,\n",
              " 'tol': 0.001,\n",
              " 'verbose': False}"
            ]
          },
          "metadata": {
            "tags": []
          },
          "execution_count": 61
        }
      ]
    },
    {
      "cell_type": "code",
      "metadata": {
        "id": "DVt5a-70GZSy",
        "outputId": "6e7868e8-dbf8-4575-f4f2-b551a8ef0326",
        "colab": {
          "base_uri": "https://localhost:8080/",
          "height": 0
        }
      },
      "source": [
        "param_grid = [\n",
        "              {'kernel': ['linear', 'rbf'],\n",
        "               'tol': [0.015, 0.01],\n",
        "               'epsilon': [0.2, 0.15] }\n",
        "]\n",
        "\n",
        "model_5_grid = grid_search(model_5,param_grid)\n",
        "\n",
        "model_5_grid.get_params()"
      ],
      "execution_count": 62,
      "outputs": [
        {
          "output_type": "execute_result",
          "data": {
            "text/plain": [
              "{'C': 1.0,\n",
              " 'cache_size': 200,\n",
              " 'coef0': 0.0,\n",
              " 'degree': 3,\n",
              " 'epsilon': 0.2,\n",
              " 'gamma': 'scale',\n",
              " 'kernel': 'linear',\n",
              " 'max_iter': -1,\n",
              " 'shrinking': True,\n",
              " 'tol': 0.01,\n",
              " 'verbose': False}"
            ]
          },
          "metadata": {
            "tags": []
          },
          "execution_count": 62
        }
      ]
    },
    {
      "cell_type": "code",
      "metadata": {
        "id": "P4q8DfVDGdzb",
        "outputId": "53612447-36d2-4a83-ab73-d3154d405c27",
        "colab": {
          "base_uri": "https://localhost:8080/",
          "height": 0
        }
      },
      "source": [
        "get_score(model_5_grid)"
      ],
      "execution_count": 63,
      "outputs": [
        {
          "output_type": "stream",
          "text": [
            "Cross-Validation Root Mean Squared Error: [0.46686479 0.48061054 0.40452317 0.52955217 0.44275658 0.46870747\n",
            " 0.49156258 0.40244178]\n",
            "Average Root Mean Squared Error: 0.46088\n",
            "Standard deviation: 0.04041\n"
          ],
          "name": "stdout"
        }
      ]
    },
    {
      "cell_type": "markdown",
      "metadata": {
        "id": "jZ_BCV7jD2zA"
      },
      "source": [
        "### XGBoost"
      ]
    },
    {
      "cell_type": "markdown",
      "metadata": {
        "id": "rLMeTFPORH2k"
      },
      "source": [
        "And lastly we will use grid search on our XGBoost model"
      ]
    },
    {
      "cell_type": "code",
      "metadata": {
        "id": "swZ_W5RtKemK",
        "outputId": "cc0a0125-32f5-409a-dd38-a114edf164d9",
        "colab": {
          "base_uri": "https://localhost:8080/",
          "height": 0
        }
      },
      "source": [
        "model_6.get_params()"
      ],
      "execution_count": 64,
      "outputs": [
        {
          "output_type": "execute_result",
          "data": {
            "text/plain": [
              "{'base_score': 0.5,\n",
              " 'booster': 'gbtree',\n",
              " 'colsample_bylevel': 1,\n",
              " 'colsample_bynode': 1,\n",
              " 'colsample_bytree': 1,\n",
              " 'gamma': 0,\n",
              " 'importance_type': 'gain',\n",
              " 'learning_rate': 0.1,\n",
              " 'max_delta_step': 0,\n",
              " 'max_depth': 3,\n",
              " 'min_child_weight': 1,\n",
              " 'missing': None,\n",
              " 'n_estimators': 100,\n",
              " 'n_jobs': 1,\n",
              " 'nthread': None,\n",
              " 'objective': 'reg:squarederror',\n",
              " 'random_state': 2020,\n",
              " 'reg_alpha': 0,\n",
              " 'reg_lambda': 1,\n",
              " 'scale_pos_weight': 1,\n",
              " 'seed': None,\n",
              " 'silent': None,\n",
              " 'subsample': 1,\n",
              " 'verbose': 0,\n",
              " 'verbosity': 1}"
            ]
          },
          "metadata": {
            "tags": []
          },
          "execution_count": 64
        }
      ]
    },
    {
      "cell_type": "code",
      "metadata": {
        "id": "WWY2BAnGKqXv",
        "outputId": "ff1b15b6-ff71-4374-a97c-cfb5aea7dd78",
        "colab": {
          "base_uri": "https://localhost:8080/",
          "height": 0
        }
      },
      "source": [
        "param_grid = [\n",
        "              {'gamma': [10,5],\n",
        "               'max_depth': [7,5],\n",
        "               'min_child_weight': [30,20],\n",
        "               'learning_rate': [0.05,0.01]}\n",
        "]\n",
        "\n",
        "model_6_grid = grid_search(model_6,param_grid)\n",
        "\n",
        "model_6_grid.get_params()"
      ],
      "execution_count": 65,
      "outputs": [
        {
          "output_type": "execute_result",
          "data": {
            "text/plain": [
              "{'base_score': 0.5,\n",
              " 'booster': 'gbtree',\n",
              " 'colsample_bylevel': 1,\n",
              " 'colsample_bynode': 1,\n",
              " 'colsample_bytree': 1,\n",
              " 'gamma': 5,\n",
              " 'importance_type': 'gain',\n",
              " 'learning_rate': 0.05,\n",
              " 'max_delta_step': 0,\n",
              " 'max_depth': 5,\n",
              " 'min_child_weight': 30,\n",
              " 'missing': None,\n",
              " 'n_estimators': 100,\n",
              " 'n_jobs': 1,\n",
              " 'nthread': None,\n",
              " 'objective': 'reg:squarederror',\n",
              " 'random_state': 2020,\n",
              " 'reg_alpha': 0,\n",
              " 'reg_lambda': 1,\n",
              " 'scale_pos_weight': 1,\n",
              " 'seed': None,\n",
              " 'silent': None,\n",
              " 'subsample': 1,\n",
              " 'verbose': 0,\n",
              " 'verbosity': 1}"
            ]
          },
          "metadata": {
            "tags": []
          },
          "execution_count": 65
        }
      ]
    },
    {
      "cell_type": "code",
      "metadata": {
        "id": "DRrzkbdyKrQz",
        "outputId": "3bcc62c8-f942-4020-da6c-155c799f7baf",
        "colab": {
          "base_uri": "https://localhost:8080/",
          "height": 0
        }
      },
      "source": [
        "get_score(model_6_grid)"
      ],
      "execution_count": 66,
      "outputs": [
        {
          "output_type": "stream",
          "text": [
            "Cross-Validation Root Mean Squared Error: [0.46765352 0.48877596 0.41202227 0.52867279 0.43131187 0.47989493\n",
            " 0.50520237 0.39973979]\n",
            "Average Root Mean Squared Error: 0.46416\n",
            "Standard deviation: 0.04281\n"
          ],
          "name": "stdout"
        }
      ]
    },
    {
      "cell_type": "markdown",
      "metadata": {
        "id": "PjJz5m39D-ym"
      },
      "source": [
        "### Comparison"
      ]
    },
    {
      "cell_type": "markdown",
      "metadata": {
        "id": "Wc9DXae6McFe"
      },
      "source": [
        "We could do this all day to zero in on the absolute best hyperparemters, but for the sake of this project, we will stop here. Let's look at the comparisons"
      ]
    },
    {
      "cell_type": "code",
      "metadata": {
        "id": "_dhjtg9oRlfB",
        "outputId": "a680a2f7-41ab-4c08-90ab-f6d1931317d7",
        "colab": {
          "base_uri": "https://localhost:8080/",
          "height": 545
        }
      },
      "source": [
        "models_list = ['Lasso Regression','Support Vector Regressor','XGBoost']\n",
        "\n",
        "fig = go.Figure(data=[go.Table(header=dict(values=['Model', 'Original RMSE', 'Grid Search RMSE', \n",
        "                                                   'Original Standard Deviation', 'Grid Search Standard Deviation']),\n",
        "                 cells=dict(values=[models_list, [rmse_list[2], rmse_list[4], rmse_list[5]], rmse_list[-3:],\n",
        "                                    [std_list[2], std_list[4], std_list[5]], std_list[-3:]]))\n",
        "                     ])\n",
        "\n",
        "fig.update_layout(\n",
        "    title={\n",
        "        'text': \"Grid Searched Model Comparisons\",\n",
        "        'y':0.9,\n",
        "        'x':0.5,\n",
        "        'xanchor': 'center',\n",
        "        'yanchor': 'top'})\n",
        "\n",
        "py.iplot(fig)"
      ],
      "execution_count": 175,
      "outputs": [
        {
          "output_type": "execute_result",
          "data": {
            "text/html": [
              "\n",
              "        <iframe\n",
              "            width=\"100%\"\n",
              "            height=\"525px\"\n",
              "            src=\"https://plotly.com/~huntermitchell/5.embed\"\n",
              "            frameborder=\"0\"\n",
              "            allowfullscreen\n",
              "        ></iframe>\n",
              "        "
            ],
            "text/plain": [
              "<IPython.lib.display.IFrame at 0x7fb5de7af358>"
            ]
          },
          "metadata": {
            "tags": []
          },
          "execution_count": 175
        }
      ]
    },
    {
      "cell_type": "markdown",
      "metadata": {
        "id": "Q-ErrPGrMgX-"
      },
      "source": [
        "Grid search improved Lasso by a lot, improved Support Vector by a bit, and actually didn't improve XGBoost. This is why it is important to keep trying different combinations of hyperparameter values to see what works. It also improved standard deviation in Lasso and Support Vector, but made XGBoost worse."
      ]
    },
    {
      "cell_type": "markdown",
      "metadata": {
        "id": "7uG-tvvx_JP0"
      },
      "source": [
        "# Results"
      ]
    },
    {
      "cell_type": "markdown",
      "metadata": {
        "id": "0rMr2Kij5iWo"
      },
      "source": [
        "Up to this point, we have only looked at our training data. Now we can try out our models on the test data to see how they perform on data they have never seen. We will first declare some arrays to store our predictions and scores, and make a function to calculate the Root Mean Squared Error. \n",
        "\n",
        "It is also very important to note that the popularity predictions we get will be the logarithm of the actual popularity predictions. Hence, to get the real popularity prediction, we must take the exponential. This is because we need to reverse the log function we applied earlier when we normalized our target variable. "
      ]
    },
    {
      "cell_type": "code",
      "metadata": {
        "id": "2RSCai-C3SQQ"
      },
      "source": [
        "from sklearn.metrics import mean_squared_error\n",
        "\n",
        "predictions = []\n",
        "final_scores = []\n",
        "\n",
        "def get_results(preds):\n",
        "  score = np.sqrt(mean_squared_error(preds,y_test.values))\n",
        "  final_scores.append(round(score,5))"
      ],
      "execution_count": 68,
      "outputs": []
    },
    {
      "cell_type": "markdown",
      "metadata": {
        "id": "xIPDE24nMicr"
      },
      "source": [
        "Now we can make test predictions for each model"
      ]
    },
    {
      "cell_type": "code",
      "metadata": {
        "id": "zqvVLn6F1ABC"
      },
      "source": [
        "### Regression\n",
        "\n",
        "preds = np.array(model_1.predict(x_test_scaled))\n",
        "predictions.append(preds)\n",
        "get_results(preds)\n",
        "\n",
        "\n",
        "### Ridge\n",
        "\n",
        "preds = np.array(model_2.predict(x_test_scaled))\n",
        "predictions.append(preds)\n",
        "get_results(preds)\n",
        "\n",
        "\n",
        "### Lasso\n",
        "\n",
        "preds = np.array(model_3.predict(x_test_scaled))\n",
        "predictions.append(preds)\n",
        "get_results(preds)\n",
        "\n",
        "\n",
        "### Forest\n",
        "\n",
        "preds = np.array(model_4.predict(x_test_scaled))\n",
        "predictions.append(preds)\n",
        "get_results(preds)\n",
        "\n",
        "\n",
        "### SVR\n",
        "\n",
        "preds = np.array(model_5.predict(x_test_scaled))\n",
        "predictions.append(preds)\n",
        "get_results(preds)\n",
        "\n",
        "\n",
        "### XGBoost\n",
        "\n",
        "preds = np.array(model_6.predict(x_test_scaled))\n",
        "predictions.append(preds)\n",
        "get_results(preds)\n",
        "\n",
        "\n",
        "### Neural Network\n",
        "\n",
        "preds = model_7.predict(x_test_scaled).reshape(len(x_test_scaled))\n",
        "predictions.append(preds)\n",
        "get_results(preds)\n",
        "\n",
        "\n",
        "### Grid searched Lasso\n",
        "\n",
        "preds = np.array(model_3_grid.predict(x_test_scaled))\n",
        "predictions.append(preds)\n",
        "get_results(preds)\n",
        "\n",
        "\n",
        "### Grid searched SVR\n",
        "\n",
        "preds = np.array(model_5_grid.predict(x_test_scaled))\n",
        "predictions.append(preds)\n",
        "get_results(preds)\n",
        "\n",
        "\n",
        "### Grid searched XGBoost\n",
        "\n",
        "preds = np.array(model_6_grid.predict(x_test_scaled))\n",
        "predictions.append(preds)\n",
        "get_results(preds)"
      ],
      "execution_count": 69,
      "outputs": []
    },
    {
      "cell_type": "markdown",
      "metadata": {
        "id": "ReQWXliUwfiQ"
      },
      "source": [
        "And just for fun, let's try to ensemble some of these predictions and see how they do. The first ensemble will be an average of every model we have made up to this point. The second ensemble will be an average of just the three grid searched models. The third ensemble will be an average of our top three models up to this point (Linear Regression, Ridge Regression, Grid searched Support Vector Regressor). \n"
      ]
    },
    {
      "cell_type": "code",
      "metadata": {
        "id": "bgZWUVOywiXm"
      },
      "source": [
        "# average all model predictions\n",
        "ensemble_1 = np.mean(predictions,axis=0) \n",
        "get_results(ensemble_1)\n",
        "\n",
        "\n",
        "# average last three model predictions\n",
        "ensemble_2 = np.mean(predictions[-3:],axis=0) \n",
        "get_results(ensemble_2)\n",
        "\n",
        "\n",
        "# average top three model predictions\n",
        "ensemble_3 = np.mean([predictions[0], predictions[1],predictions[8]],axis=0) \n",
        "get_results(ensemble_3)"
      ],
      "execution_count": 70,
      "outputs": []
    },
    {
      "cell_type": "markdown",
      "metadata": {
        "id": "Zdx2QdqCPaGK"
      },
      "source": [
        "Let's see how the final RMSEs compare between all these models"
      ]
    },
    {
      "cell_type": "code",
      "metadata": {
        "id": "ZQlSCTkJVcEj",
        "outputId": "132c172d-f42b-4bf9-c3f1-b26a8ccc6d68",
        "colab": {
          "base_uri": "https://localhost:8080/",
          "height": 545
        }
      },
      "source": [
        "models_list = ['Linear Regression','Ridge Regression','Lasso Regression','Random Forest','Support Vector Regressor',\n",
        "               'XGBoost','Neural Network','Grid Search Lasso','Grid Search Support Vector Regressor',\n",
        "               'Grid Search XGBoost','All Model Ensemble','Grid Search Model Ensemble', 'Top 3 Ensemble']\n",
        "\n",
        "models_ranked_df = pd.DataFrame(data={'model': models_list, 'score': final_scores}).sort_values(by='score')\n",
        "\n",
        "fig = go.Figure(data=[go.Table(header=dict(values=['Model', 'Final RMSE']),\n",
        "                 cells=dict(values=[models_ranked_df.model, models_ranked_df.score ]))\n",
        "                     ])\n",
        "\n",
        "fig.update_layout(\n",
        "    title={\n",
        "        'text': \"All Models Ranked\",\n",
        "        'y':0.9,\n",
        "        'x':0.5,\n",
        "        'xanchor': 'center',\n",
        "        'yanchor': 'top'})\n",
        "\n",
        "py.iplot(fig)"
      ],
      "execution_count": 176,
      "outputs": [
        {
          "output_type": "execute_result",
          "data": {
            "text/html": [
              "\n",
              "        <iframe\n",
              "            width=\"100%\"\n",
              "            height=\"525px\"\n",
              "            src=\"https://plotly.com/~huntermitchell/7.embed\"\n",
              "            frameborder=\"0\"\n",
              "            allowfullscreen\n",
              "        ></iframe>\n",
              "        "
            ],
            "text/plain": [
              "<IPython.lib.display.IFrame at 0x7fb5dda1f6a0>"
            ]
          },
          "metadata": {
            "tags": []
          },
          "execution_count": 176
        }
      ]
    },
    {
      "cell_type": "markdown",
      "metadata": {
        "id": "kQvgPrQIXkRP"
      },
      "source": [
        "Surprisingly, our regular XGBoost model performs the best out of all models! We could definitely make it better by finding the right hyperparameters through a more refined grid search. Our grid searched models also perform well, with two of our ensembles coming in 3rd and 4th place. Most of these results are similar to how the models performed on our training data. This is good because it shows there is little to no overfitting and underfitting happening. We could also try some other ensembles to find the best combination. Normally ensembles work the best because they average out all of the residuals between the models. \n",
        "\n",
        "Speaking of residuals, let's look at a residuals plot from our best model (XGBoost)"
      ]
    },
    {
      "cell_type": "code",
      "metadata": {
        "id": "GBTDAYf2w-In",
        "outputId": "1f5761e6-d2ec-4e3d-8b22-c04654409cee",
        "colab": {
          "base_uri": "https://localhost:8080/",
          "height": 630
        }
      },
      "source": [
        "from yellowbrick.regressor import ResidualsPlot\n",
        "\n",
        "visualizer = ResidualsPlot(model_6, is_fitted=True, train_color='b', test_color='g', size=(1080,720))\n",
        "visualizer.fit(x_train_scaled, y_train)\n",
        "visualizer.score(x_test_scaled,y_test)\n",
        "visualizer.poof() "
      ],
      "execution_count": 132,
      "outputs": [
        {
          "output_type": "display_data",
          "data": {
            "image/png": "[encoded data removed]",
            "text/plain": [
              "<Figure size 1080x720 with 2 Axes>"
            ]
          },
          "metadata": {
            "tags": []
          }
        }
      ]
    },
    {
      "cell_type": "markdown",
      "metadata": {
        "id": "qE8eL2kB3vmV"
      },
      "source": [
        "This plot gives a lot of useful information. First, our residuals distribution on the right is approximately normal. This is good - if it was skewed, we would not be able to accurately use this information for statistical decisions. Looking at the main section now, we can see that the training and testing residuals are very similar. Our training data seems to be a bit more spread out overall, which we can verify by checking the $R^2$ scores at the top. These measure how well our model fit the data, with 1 being perfect. Since the training score is a bit better than our testing score, there is a bit of overfitting occuring. Ideally, these would about be the same. Our residuals also center around 0 which means that they predict more than the actual value just about as often as they predict less.\n",
        "\n"
      ]
    },
    {
      "cell_type": "markdown",
      "metadata": {
        "id": "JZTa38I2-Ehc"
      },
      "source": [
        "XGBoost also let's us look at how important the features were in it's predictions"
      ]
    },
    {
      "cell_type": "code",
      "metadata": {
        "id": "I3FDUz8e9O8E",
        "outputId": "c535cd1f-7b27-487d-cf1b-df70aae81390",
        "colab": {
          "base_uri": "https://localhost:8080/",
          "height": 54
        }
      },
      "source": [
        "print([round(x,5) for x in model_6.feature_importances_])"
      ],
      "execution_count": 151,
      "outputs": [
        {
          "output_type": "stream",
          "text": [
            "[0.016, 0.01, 0.01073, 0.77137, 0.03186, 0.01126, 0.00244, 0.00733, 0.0122, 0.0, 0.0, 0.0039, 0.01146, 0.00436, 0.00487, 0.01975, 0.0, 0.01102, 0.00698, 0.0, 0.03879, 0.02566]\n"
          ],
          "name": "stdout"
        }
      ]
    },
    {
      "cell_type": "code",
      "metadata": {
        "id": "FgHZ09Ke4G0N",
        "outputId": "3c056a90-e3eb-46eb-90a2-e7f9e805cb82",
        "colab": {
          "base_uri": "https://localhost:8080/",
          "height": 545
        }
      },
      "source": [
        "features_ranked_df = pd.DataFrame(data={'feature': x_test_scaled.columns, \n",
        "                                        'importance': model_6.feature_importances_}\n",
        "                                  ).sort_values(by='importance', ascending = False)\n",
        "\n",
        "fig = go.Figure(data=[go.Table(header=dict(values=['Feature', 'Importance']),\n",
        "                 cells=dict(values=[features_ranked_df.feature, [round(x,5) for x in features_ranked_df.importance]]))\n",
        "                     ])\n",
        "\n",
        "fig.update_layout(\n",
        "    title={\n",
        "        'text': \"Features Ranked\",\n",
        "        'y':0.9,\n",
        "        'x':0.5,\n",
        "        'xanchor': 'center',\n",
        "        'yanchor': 'top'})\n",
        "\n",
        "py.iplot(fig)"
      ],
      "execution_count": 177,
      "outputs": [
        {
          "output_type": "execute_result",
          "data": {
            "text/html": [
              "\n",
              "        <iframe\n",
              "            width=\"100%\"\n",
              "            height=\"525px\"\n",
              "            src=\"https://plotly.com/~huntermitchell/9.embed\"\n",
              "            frameborder=\"0\"\n",
              "            allowfullscreen\n",
              "        ></iframe>\n",
              "        "
            ],
            "text/plain": [
              "<IPython.lib.display.IFrame at 0x7fb5ddd81c50>"
            ]
          },
          "metadata": {
            "tags": []
          },
          "execution_count": 177
        }
      ]
    },
    {
      "cell_type": "markdown",
      "metadata": {
        "id": "j3hRLOAb6YhZ"
      },
      "source": [
        "It looks like vote count was the most important feature. This is expected as it was the most correlated to popularity. We have a somewhat unexpected next most important feature: the War genre. This was one of the least correlated to popularity, so it is definitely surprising to see it so high up on this list. I would have expected our other numerical features to be higher up on this list as well. The least important features are not surprising though - there were very few instances of them to begin with and they showed very little correlation. "
      ]
    },
    {
      "cell_type": "markdown",
      "metadata": {
        "id": "mRhuOB98JFGg"
      },
      "source": [
        "Any regression model can also provide an $R^2$ score. This is the coefficient of determination and shows how well our model fit the data between -1 and 1. The closer the score is to 1 the better. Let's take a look at how these compare."
      ]
    },
    {
      "cell_type": "code",
      "metadata": {
        "id": "m8fP_TY75fu-",
        "outputId": "31743c2d-5462-44ee-e1bd-ee0c0219843c",
        "colab": {
          "base_uri": "https://localhost:8080/",
          "height": 545
        }
      },
      "source": [
        "def score(model):\n",
        "  return round(model.score(x_test_scaled, y_test),5)\n",
        "\n",
        "model_r2_list = [score(model_1), score(model_2), score(model_3), score(model_4), score(model_5),\n",
        "                 score(model_6), score(model_7), score(model_3_grid), score(model_5_grid), score(model_6_grid)]\n",
        "\n",
        "r2_ranked_df = pd.DataFrame(data={'model': models_list[:10], 'r2':model_r2_list}\n",
        "                                  ).sort_values(by='r2', ascending = False)\n",
        "\n",
        "fig = go.Figure(data=[go.Table(header=dict(values=['Model', 'R^2']),\n",
        "                 cells=dict(values=[r2_ranked_df.model, r2_ranked_df.r2 ]))\n",
        "                     ])\n",
        "\n",
        "fig.update_layout(\n",
        "    title={\n",
        "        'text': \"R^2 Values\",\n",
        "        'y':0.9,\n",
        "        'x':0.5,\n",
        "        'xanchor': 'center',\n",
        "        'yanchor': 'top'})\n",
        "\n",
        "py.iplot(fig)"
      ],
      "execution_count": 178,
      "outputs": [
        {
          "output_type": "execute_result",
          "data": {
            "text/html": [
              "\n",
              "        <iframe\n",
              "            width=\"100%\"\n",
              "            height=\"525px\"\n",
              "            src=\"https://plotly.com/~huntermitchell/11.embed\"\n",
              "            frameborder=\"0\"\n",
              "            allowfullscreen\n",
              "        ></iframe>\n",
              "        "
            ],
            "text/plain": [
              "<IPython.lib.display.IFrame at 0x7fb5ea09a860>"
            ]
          },
          "metadata": {
            "tags": []
          },
          "execution_count": 178
        }
      ]
    },
    {
      "cell_type": "markdown",
      "metadata": {
        "id": "blM6DcH7JN-6"
      },
      "source": [
        "These results are not too surprising - they end up very similar to our RMSE table. However, these scores show how much room we still have for improvement. Although 0.84393 is a good score, it still has a bit to go before being a great model. We can also see that our original Lasso Regression model, and our Neural Network fit the data pretty terribly. We were able to improve the Lasso model through grid search, but we will need to experiment quite a bit with Neural Networks to make it more accurate. "
      ]
    },
    {
      "cell_type": "markdown",
      "metadata": {
        "id": "4tciQi5I_KuI"
      },
      "source": [
        "# Conclusion"
      ]
    },
    {
      "cell_type": "markdown",
      "metadata": {
        "id": "iwMUOGh9-IBp"
      },
      "source": [
        "From the models that we tried, XGBoost worked the best. I am confident that with more hyperparameter tuning and ensembling, we could achieve a much better RMSE and $R^2$ score. There are also many other models and methods we could try that are outside the scope of this project. I would like to work with on this further in the future with more data. I would also like to predict other things such as revenue or ratings, and try different feature combinations. Overall, this project gave a lot of insight into what increases the popularity of movies. I think it could be useful for production companies or independent filmmakers. I also personally learned a lot doing this and look forward to working on more complex projects in the future! "
      ]
    }
  ]
}